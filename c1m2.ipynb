{
 "cells": [
  {
   "cell_type": "code",
   "execution_count": 1,
   "metadata": {
    "scrolled": true
   },
   "outputs": [
    {
     "name": "stderr",
     "output_type": "stream",
     "text": [
      "Using TensorFlow backend.\n"
     ]
    }
   ],
   "source": [
    "import os\n",
    "import numpy as np\n",
    "from sklearn import preprocessing\n",
    "\n",
    "import keras\n",
    "from keras.models import Sequential, Model\n",
    "from keras.layers import Input, Dense, LSTM, Dropout, Activation\n",
    "from keras.layers import Conv1D, MaxPooling1D, Flatten, BatchNormalization, Lambda, AveragePooling1D\n",
    "from keras.layers import GlobalMaxPooling1D, GlobalAveragePooling1D, Add\n",
    "from keras.callbacks import EarlyStopping\n",
    "from keras.optimizers import Adam, RMSprop, SGD\n",
    "from keras import regularizers"
   ]
  },
  {
   "cell_type": "markdown",
   "metadata": {},
   "source": [
    "# Modeling"
   ]
  },
  {
   "cell_type": "markdown",
   "metadata": {},
   "source": [
    "### Load NumPy Arrays & convert labels"
   ]
  },
  {
   "cell_type": "code",
   "execution_count": 2,
   "metadata": {},
   "outputs": [],
   "source": [
    "segs = 512"
   ]
  },
  {
   "cell_type": "code",
   "execution_count": 3,
   "metadata": {},
   "outputs": [],
   "source": [
    "# Load compressed NumPy arrays\n",
    "with np.load('orpheusC' + str(segs) + '.npz') as data:\n",
    "    X_Train = data['Xp_Train']\n",
    "    X_Val = data['Xp_Val']\n",
    "    X_Test = data['Xp_Test']\n",
    "    Y_Train = data['Y_Train']\n",
    "    Y_Val  = data['Y_Val']\n",
    "    Y_Test = data['Y_Test']"
   ]
  },
  {
   "cell_type": "code",
   "execution_count": 4,
   "metadata": {
    "scrolled": true
   },
   "outputs": [
    {
     "data": {
      "text/plain": [
       "array(['Blues', 'Classical', 'Country', 'Hip-Hop', 'Jazz', 'Metal', 'Pop',\n",
       "       'Rock'], dtype='<U9')"
      ]
     },
     "execution_count": 4,
     "metadata": {},
     "output_type": "execute_result"
    }
   ],
   "source": [
    "# Convert string labels to integers\n",
    "le = preprocessing.LabelEncoder()\n",
    "Y_Train = le.fit_transform(Y_Train)\n",
    "Y_Val = le.fit_transform(Y_Val)\n",
    "Y_Test = le.fit_transform(Y_Test)\n",
    "le.classes_"
   ]
  },
  {
   "cell_type": "code",
   "execution_count": 5,
   "metadata": {
    "scrolled": true
   },
   "outputs": [
    {
     "data": {
      "text/plain": [
       "(Rock         880\n",
       " Pop          880\n",
       " Hip-Hop      880\n",
       " Classical    880\n",
       " Country      880\n",
       " Blues        880\n",
       " Jazz         880\n",
       " Metal        880\n",
       " Name: 0, dtype: int64,\n",
       " Classical    110\n",
       " Country      110\n",
       " Pop          110\n",
       " Rock         110\n",
       " Metal        110\n",
       " Jazz         110\n",
       " Hip-Hop      110\n",
       " Blues        110\n",
       " Name: 0, dtype: int64,\n",
       " Classical    110\n",
       " Country      110\n",
       " Pop          110\n",
       " Rock         110\n",
       " Metal        110\n",
       " Jazz         110\n",
       " Hip-Hop      110\n",
       " Blues        110\n",
       " Name: 0, dtype: int64)"
      ]
     },
     "execution_count": 5,
     "metadata": {},
     "output_type": "execute_result"
    }
   ],
   "source": [
    "# Confirm sample balance\n",
    "import pandas as pd\n",
    "Y_Traindf = pd.DataFrame(le.inverse_transform(Y_Train))\n",
    "Y_Valdf = pd.DataFrame(le.inverse_transform(Y_Val))\n",
    "Y_Testdf = pd.DataFrame(le.inverse_transform(Y_Test))\n",
    "Y_Traindf[0].value_counts(),Y_Valdf[0].value_counts(),Y_Testdf[0].value_counts()"
   ]
  },
  {
   "cell_type": "markdown",
   "metadata": {},
   "source": [
    "### Build Model(s)"
   ]
  },
  {
   "cell_type": "code",
   "execution_count": 6,
   "metadata": {},
   "outputs": [],
   "source": [
    "# Specifying input shape for first layer\n",
    "input_shape = (segs, 12)"
   ]
  },
  {
   "cell_type": "markdown",
   "metadata": {},
   "source": [
    "#### CNN (Pitch)"
   ]
  },
  {
   "cell_type": "code",
   "execution_count": 7,
   "metadata": {},
   "outputs": [],
   "source": [
    "# Set dropout rate\n",
    "dr = 0.25"
   ]
  },
  {
   "cell_type": "code",
   "execution_count": 8,
   "metadata": {
    "scrolled": true
   },
   "outputs": [
    {
     "name": "stdout",
     "output_type": "stream",
     "text": [
      "WARNING:tensorflow:From /Users/abuchmueller/opt/anaconda3/envs/P37/lib/python3.7/site-packages/keras/backend/tensorflow_backend.py:4070: The name tf.nn.max_pool is deprecated. Please use tf.nn.max_pool2d instead.\n",
      "\n"
     ]
    }
   ],
   "source": [
    "# Build model using Sequential API\n",
    "model = Sequential()\n",
    "\n",
    "# 3x 1D Convolution layers\n",
    "model.add(Conv1D(48, 5, activation='relu', input_shape=input_shape, data_format='channels_last'))\n",
    "model.add(MaxPooling1D(pool_size=2))\n",
    "model.add(Dropout(rate=dr))\n",
    "\n",
    "model.add(Conv1D(64, 5, activation='relu', padding=\"same\"))\n",
    "model.add(MaxPooling1D(pool_size=2))\n",
    "model.add(Dropout(rate=dr))\n",
    "\n",
    "model.add(Conv1D(64, 5, activation='relu', padding=\"same\"))\n",
    "model.add(MaxPooling1D(pool_size=2))\n",
    "model.add(Dropout(rate=dr))\n",
    "\n",
    "model.add(Flatten()) \n",
    "model.add(Dropout(rate=dr))\n",
    "\n",
    "# 3 Dense Layers with ReLU activation\n",
    "model.add(Dense(64, activation='relu'))\n",
    "model.add(Dense(32, activation='relu'))\n",
    "model.add(Dense(16, activation='relu'))\n",
    "\n",
    "# Output layer\n",
    "model.add(Dense(8, activation='softmax'))\n",
    "\n",
    "mtype = 'cnn'"
   ]
  },
  {
   "cell_type": "markdown",
   "metadata": {},
   "source": [
    "### Compile Model"
   ]
  },
  {
   "cell_type": "code",
   "execution_count": 10,
   "metadata": {
    "scrolled": true
   },
   "outputs": [],
   "source": [
    "model.compile(optimizer='adam', loss='sparse_categorical_crossentropy', metrics=['accuracy'])"
   ]
  },
  {
   "cell_type": "markdown",
   "metadata": {},
   "source": [
    "### Train Model"
   ]
  },
  {
   "cell_type": "code",
   "execution_count": 11,
   "metadata": {},
   "outputs": [],
   "source": [
    "es = EarlyStopping(monitor='val_accuracy', mode='max', verbose=1, min_delta=0.01, patience=8)"
   ]
  },
  {
   "cell_type": "code",
   "execution_count": 12,
   "metadata": {
    "scrolled": false
   },
   "outputs": [
    {
     "name": "stdout",
     "output_type": "stream",
     "text": [
      "WARNING:tensorflow:From /Users/abuchmueller/opt/anaconda3/envs/P37/lib/python3.7/site-packages/keras/backend/tensorflow_backend.py:422: The name tf.global_variables is deprecated. Please use tf.compat.v1.global_variables instead.\n",
      "\n",
      "Train on 7040 samples, validate on 880 samples\n",
      "Epoch 1/75\n",
      "7040/7040 [==============================] - 32s 5ms/step - loss: 1.9983 - accuracy: 0.1807 - val_loss: 1.8583 - val_accuracy: 0.2750\n",
      "Epoch 2/75\n",
      "7040/7040 [==============================] - 27s 4ms/step - loss: 1.7612 - accuracy: 0.2920 - val_loss: 1.7542 - val_accuracy: 0.3307\n",
      "Epoch 3/75\n",
      "7040/7040 [==============================] - 27s 4ms/step - loss: 1.6475 - accuracy: 0.3375 - val_loss: 1.5788 - val_accuracy: 0.3898\n",
      "Epoch 4/75\n",
      "7040/7040 [==============================] - 27s 4ms/step - loss: 1.4799 - accuracy: 0.4341 - val_loss: 1.2814 - val_accuracy: 0.5148\n",
      "Epoch 5/75\n",
      "7040/7040 [==============================] - 27s 4ms/step - loss: 1.3238 - accuracy: 0.4939 - val_loss: 1.2511 - val_accuracy: 0.5386\n",
      "Epoch 6/75\n",
      "7040/7040 [==============================] - 27s 4ms/step - loss: 1.2641 - accuracy: 0.5212 - val_loss: 1.2092 - val_accuracy: 0.5455\n",
      "Epoch 7/75\n",
      "7040/7040 [==============================] - 26s 4ms/step - loss: 1.2254 - accuracy: 0.5332 - val_loss: 1.1558 - val_accuracy: 0.5773\n",
      "Epoch 8/75\n",
      "7040/7040 [==============================] - 26s 4ms/step - loss: 1.1884 - accuracy: 0.5514 - val_loss: 1.1733 - val_accuracy: 0.5727\n",
      "Epoch 9/75\n",
      "7040/7040 [==============================] - 25s 4ms/step - loss: 1.1495 - accuracy: 0.5580 - val_loss: 1.1439 - val_accuracy: 0.5830\n",
      "Epoch 10/75\n",
      "7040/7040 [==============================] - 28s 4ms/step - loss: 1.1244 - accuracy: 0.5781 - val_loss: 1.0759 - val_accuracy: 0.5977\n",
      "Epoch 11/75\n",
      "7040/7040 [==============================] - 27s 4ms/step - loss: 1.0764 - accuracy: 0.5946 - val_loss: 1.1049 - val_accuracy: 0.5955\n",
      "Epoch 12/75\n",
      "7040/7040 [==============================] - 26s 4ms/step - loss: 1.0644 - accuracy: 0.5996 - val_loss: 1.0671 - val_accuracy: 0.6216\n",
      "Epoch 13/75\n",
      "7040/7040 [==============================] - 26s 4ms/step - loss: 1.0277 - accuracy: 0.6104 - val_loss: 1.0431 - val_accuracy: 0.6330\n",
      "Epoch 14/75\n",
      "7040/7040 [==============================] - 28s 4ms/step - loss: 0.9850 - accuracy: 0.6303 - val_loss: 1.0395 - val_accuracy: 0.6182\n",
      "Epoch 15/75\n",
      "7040/7040 [==============================] - 27s 4ms/step - loss: 0.9569 - accuracy: 0.6456 - val_loss: 1.1128 - val_accuracy: 0.6023\n",
      "Epoch 16/75\n",
      "7040/7040 [==============================] - 27s 4ms/step - loss: 0.9179 - accuracy: 0.6572 - val_loss: 1.0267 - val_accuracy: 0.6409\n",
      "Epoch 17/75\n",
      "7040/7040 [==============================] - 28s 4ms/step - loss: 0.8845 - accuracy: 0.6716 - val_loss: 1.0405 - val_accuracy: 0.6364\n",
      "Epoch 18/75\n",
      "7040/7040 [==============================] - 27s 4ms/step - loss: 0.8670 - accuracy: 0.6810 - val_loss: 1.0452 - val_accuracy: 0.6443\n",
      "Epoch 19/75\n",
      "7040/7040 [==============================] - 27s 4ms/step - loss: 0.8323 - accuracy: 0.6902 - val_loss: 1.0017 - val_accuracy: 0.6568\n",
      "Epoch 20/75\n",
      "7040/7040 [==============================] - 27s 4ms/step - loss: 0.8187 - accuracy: 0.6902 - val_loss: 1.0397 - val_accuracy: 0.6386\n",
      "Epoch 21/75\n",
      "7040/7040 [==============================] - 27s 4ms/step - loss: 0.7821 - accuracy: 0.7105 - val_loss: 1.0414 - val_accuracy: 0.6295\n",
      "Epoch 22/75\n",
      "7040/7040 [==============================] - 27s 4ms/step - loss: 0.7662 - accuracy: 0.7111 - val_loss: 1.1005 - val_accuracy: 0.6023\n",
      "Epoch 23/75\n",
      "7040/7040 [==============================] - 27s 4ms/step - loss: 0.7376 - accuracy: 0.7199 - val_loss: 1.0447 - val_accuracy: 0.6443\n",
      "Epoch 24/75\n",
      "7040/7040 [==============================] - 28s 4ms/step - loss: 0.7235 - accuracy: 0.7214 - val_loss: 1.1199 - val_accuracy: 0.6216\n",
      "Epoch 25/75\n",
      "7040/7040 [==============================] - 25s 4ms/step - loss: 0.7139 - accuracy: 0.7291 - val_loss: 1.0699 - val_accuracy: 0.6364\n",
      "Epoch 26/75\n",
      "7040/7040 [==============================] - 26s 4ms/step - loss: 0.6888 - accuracy: 0.7491 - val_loss: 1.0600 - val_accuracy: 0.6466\n",
      "Epoch 27/75\n",
      "7040/7040 [==============================] - 25s 4ms/step - loss: 0.6758 - accuracy: 0.7480 - val_loss: 1.0564 - val_accuracy: 0.6466\n",
      "Epoch 00027: early stopping\n"
     ]
    }
   ],
   "source": [
    "# iterating 30 times on the data in batches of 32 samples then saving training history\n",
    "hist = model.fit(X_Train, Y_Train, epochs=75, batch_size=32, validation_data=(X_Val, Y_Val), callbacks=[es])"
   ]
  },
  {
   "cell_type": "code",
   "execution_count": 13,
   "metadata": {
    "scrolled": true
   },
   "outputs": [
    {
     "name": "stdout",
     "output_type": "stream",
     "text": [
      "Model: \"sequential_1\"\n",
      "_________________________________________________________________\n",
      "Layer (type)                 Output Shape              Param #   \n",
      "=================================================================\n",
      "conv1d_1 (Conv1D)            (None, 508, 48)           2928      \n",
      "_________________________________________________________________\n",
      "max_pooling1d_1 (MaxPooling1 (None, 254, 48)           0         \n",
      "_________________________________________________________________\n",
      "dropout_1 (Dropout)          (None, 254, 48)           0         \n",
      "_________________________________________________________________\n",
      "conv1d_2 (Conv1D)            (None, 254, 64)           15424     \n",
      "_________________________________________________________________\n",
      "max_pooling1d_2 (MaxPooling1 (None, 127, 64)           0         \n",
      "_________________________________________________________________\n",
      "dropout_2 (Dropout)          (None, 127, 64)           0         \n",
      "_________________________________________________________________\n",
      "conv1d_3 (Conv1D)            (None, 127, 64)           20544     \n",
      "_________________________________________________________________\n",
      "max_pooling1d_3 (MaxPooling1 (None, 63, 64)            0         \n",
      "_________________________________________________________________\n",
      "dropout_3 (Dropout)          (None, 63, 64)            0         \n",
      "_________________________________________________________________\n",
      "flatten_1 (Flatten)          (None, 4032)              0         \n",
      "_________________________________________________________________\n",
      "dropout_4 (Dropout)          (None, 4032)              0         \n",
      "_________________________________________________________________\n",
      "dense_1 (Dense)              (None, 64)                258112    \n",
      "_________________________________________________________________\n",
      "dense_2 (Dense)              (None, 32)                2080      \n",
      "_________________________________________________________________\n",
      "dense_3 (Dense)              (None, 16)                528       \n",
      "_________________________________________________________________\n",
      "dense_4 (Dense)              (None, 8)                 136       \n",
      "=================================================================\n",
      "Total params: 299,752\n",
      "Trainable params: 299,752\n",
      "Non-trainable params: 0\n",
      "_________________________________________________________________\n"
     ]
    }
   ],
   "source": [
    "# Model Summary\n",
    "model.summary()"
   ]
  },
  {
   "cell_type": "code",
   "execution_count": 14,
   "metadata": {
    "scrolled": false
   },
   "outputs": [
    {
     "name": "stdout",
     "output_type": "stream",
     "text": [
      "880/880 [==============================] - 1s 1ms/step\n"
     ]
    }
   ],
   "source": [
    "model.save(os.getcwd() + '/models/pitch/' + mtype + str(segs) + '_' + str(round(model.evaluate(X_Test, Y_Test)[1], 3)) + '.h5')"
   ]
  },
  {
   "cell_type": "markdown",
   "metadata": {},
   "source": [
    "# Model Evaluation"
   ]
  },
  {
   "cell_type": "markdown",
   "metadata": {},
   "source": [
    "### Plotting training and validation loss"
   ]
  },
  {
   "cell_type": "code",
   "execution_count": 15,
   "metadata": {},
   "outputs": [
    {
     "data": {
      "image/png": "[encoded data removed]",
      "text/plain": [
       "<Figure size 432x432 with 1 Axes>"
      ]
     },
     "metadata": {
      "needs_background": "light"
     },
     "output_type": "display_data"
    }
   ],
   "source": [
    "import matplotlib.pyplot as plt\n",
    "\n",
    "plt.figure(figsize=(6,6))\n",
    "loss = hist.history['loss']\n",
    "val_loss = hist.history['val_loss']\n",
    "epochs = range(1, len(loss) + 1)\n",
    "plt.plot(epochs, loss, 'b', label='Training loss')\n",
    "plt.plot(epochs, val_loss, 'r', label='Validation loss')\n",
    "plt.axvline(x = (np.argmin(val_loss)+1))\n",
    "plt.title('Training and validation loss')\n",
    "plt.xlabel('Epochs')\n",
    "plt.ylabel('Loss')\n",
    "plt.legend()\n",
    "plt.show()"
   ]
  },
  {
   "cell_type": "markdown",
   "metadata": {},
   "source": [
    "### Plotting training and validation accuracy"
   ]
  },
  {
   "cell_type": "code",
   "execution_count": 16,
   "metadata": {
    "scrolled": true
   },
   "outputs": [
    {
     "data": {
      "image/png": "[encoded data removed]",
      "text/plain": [
       "<Figure size 432x432 with 1 Axes>"
      ]
     },
     "metadata": {
      "needs_background": "light"
     },
     "output_type": "display_data"
    }
   ],
   "source": [
    "plt.figure(figsize=(6,6))\n",
    "acc = hist.history['accuracy']\n",
    "val_acc = hist.history['val_accuracy']\n",
    "plt.plot(epochs, acc, 'b', label='Training acc')\n",
    "plt.plot(epochs, val_acc, 'r', label='Validation acc')\n",
    "plt.axvline(x = (np.argmax(val_acc)+1))\n",
    "plt.title('Training and validation accuracy')\n",
    "plt.xlabel('Epochs')\n",
    "plt.ylabel('Accuracy')\n",
    "plt.legend()\n",
    "plt.show()"
   ]
  },
  {
   "cell_type": "code",
   "execution_count": 17,
   "metadata": {},
   "outputs": [
    {
     "data": {
      "text/plain": [
       "(19, 0.6568182110786438)"
      ]
     },
     "execution_count": 17,
     "metadata": {},
     "output_type": "execute_result"
    }
   ],
   "source": [
    "# Epoch with highest validation accucary\n",
    "np.argmax(val_acc)+1, val_acc[np.argmax(val_acc)]"
   ]
  },
  {
   "cell_type": "code",
   "execution_count": 18,
   "metadata": {
    "scrolled": true
   },
   "outputs": [
    {
     "name": "stdout",
     "output_type": "stream",
     "text": [
      "880/880 [==============================] - 1s 851us/step\n",
      "Test loss: 1.1247541145844893\n",
      "Test accuracy: 0.6261363625526428\n"
     ]
    }
   ],
   "source": [
    "results = model.evaluate(X_Test, Y_Test)\n",
    "print('Test loss:', results[0])\n",
    "print('Test accuracy:', results[1])"
   ]
  },
  {
   "cell_type": "markdown",
   "metadata": {},
   "source": [
    "### Accuracy per Genre"
   ]
  },
  {
   "cell_type": "code",
   "execution_count": 20,
   "metadata": {
    "scrolled": true
   },
   "outputs": [
    {
     "name": "stdout",
     "output_type": "stream",
     "text": [
      "[[68  2 11  1  7  7  3 11]\n",
      " [ 4 96  2  1  4  0  0  3]\n",
      " [24  0 63  0  0  1  6 16]\n",
      " [ 1  1  6 71  2 11 15  3]\n",
      " [22  9  3  7 60  2  4  3]\n",
      " [ 8  1  0  0  1 86  4 10]\n",
      " [ 7  1  8 14  1  3 69  7]\n",
      " [18  5 14  2  0 23 10 38]]\n"
     ]
    }
   ],
   "source": [
    "from sklearn.metrics import confusion_matrix\n",
    "y_pred = model.predict(X_Test)\n",
    "y_pred = np.argmax(y_pred, axis=1)\n",
    "print(confusion_matrix(Y_Test, y_pred))"
   ]
  },
  {
   "cell_type": "code",
   "execution_count": 21,
   "metadata": {
    "scrolled": true
   },
   "outputs": [
    {
     "data": {
      "text/plain": [
       "Text(258.72, 0.5, 'Prediction')"
      ]
     },
     "execution_count": 21,
     "metadata": {},
     "output_type": "execute_result"
    },
    {
     "data": {
      "image/png": "[encoded data removed]",
      "text/plain": [
       "<Figure size 864x432 with 1 Axes>"
      ]
     },
     "metadata": {
      "needs_background": "light"
     },
     "output_type": "display_data"
    }
   ],
   "source": [
    "# Visualizing confusion matrix\n",
    "from sklearn.metrics import confusion_matrix\n",
    "import seaborn as sns\n",
    "\n",
    "plt.figure(figsize=(12,6))\n",
    "cm = confusion_matrix(Y_Test, y_pred)\n",
    "sns.heatmap(cm.T, square=True, annot=True, fmt='d', cbar=False,\n",
    "            xticklabels=list(le.classes_),\n",
    "            yticklabels=list(le.classes_))\n",
    "plt.xlabel('True Genre')\n",
    "plt.ylabel('Prediction')"
   ]
  },
  {
   "cell_type": "code",
   "execution_count": 22,
   "metadata": {
    "scrolled": true
   },
   "outputs": [
    {
     "name": "stdout",
     "output_type": "stream",
     "text": [
      "(880,) (880,)\n",
      "              precision    recall  f1-score   support\n",
      "\n",
      "       Blues       0.45      0.62      0.52       110\n",
      "   Classical       0.83      0.87      0.85       110\n",
      "     Country       0.59      0.57      0.58       110\n",
      "     Hip-Hop       0.74      0.65      0.69       110\n",
      "        Jazz       0.80      0.55      0.65       110\n",
      "       Metal       0.65      0.78      0.71       110\n",
      "         Pop       0.62      0.63      0.62       110\n",
      "        Rock       0.42      0.35      0.38       110\n",
      "\n",
      "    accuracy                           0.63       880\n",
      "   macro avg       0.64      0.63      0.63       880\n",
      "weighted avg       0.64      0.63      0.63       880\n",
      "\n"
     ]
    }
   ],
   "source": [
    "from sklearn.metrics import classification_report\n",
    "\n",
    "print(Y_Test.shape, y_pred.shape)\n",
    "print(classification_report(Y_Test, y_pred, target_names=list(le.classes_)))"
   ]
  },
  {
   "cell_type": "code",
   "execution_count": 23,
   "metadata": {
    "scrolled": false
   },
   "outputs": [
    {
     "data": {
      "text/html": [
       "<div>\n",
       "<style scoped>\n",
       "    .dataframe tbody tr th:only-of-type {\n",
       "        vertical-align: middle;\n",
       "    }\n",
       "\n",
       "    .dataframe tbody tr th {\n",
       "        vertical-align: top;\n",
       "    }\n",
       "\n",
       "    .dataframe thead th {\n",
       "        text-align: right;\n",
       "    }\n",
       "</style>\n",
       "<table border=\"1\" class=\"dataframe\">\n",
       "  <thead>\n",
       "    <tr style=\"text-align: right;\">\n",
       "      <th></th>\n",
       "      <th>precision</th>\n",
       "      <th>recall</th>\n",
       "      <th>f1-score</th>\n",
       "      <th>support</th>\n",
       "    </tr>\n",
       "  </thead>\n",
       "  <tbody>\n",
       "    <tr>\n",
       "      <th>Blues</th>\n",
       "      <td>0.447368</td>\n",
       "      <td>0.618182</td>\n",
       "      <td>0.519084</td>\n",
       "      <td>110.000000</td>\n",
       "    </tr>\n",
       "    <tr>\n",
       "      <th>Classical</th>\n",
       "      <td>0.834783</td>\n",
       "      <td>0.872727</td>\n",
       "      <td>0.853333</td>\n",
       "      <td>110.000000</td>\n",
       "    </tr>\n",
       "    <tr>\n",
       "      <th>Country</th>\n",
       "      <td>0.588785</td>\n",
       "      <td>0.572727</td>\n",
       "      <td>0.580645</td>\n",
       "      <td>110.000000</td>\n",
       "    </tr>\n",
       "    <tr>\n",
       "      <th>Hip-Hop</th>\n",
       "      <td>0.739583</td>\n",
       "      <td>0.645455</td>\n",
       "      <td>0.689320</td>\n",
       "      <td>110.000000</td>\n",
       "    </tr>\n",
       "    <tr>\n",
       "      <th>Jazz</th>\n",
       "      <td>0.800000</td>\n",
       "      <td>0.545455</td>\n",
       "      <td>0.648649</td>\n",
       "      <td>110.000000</td>\n",
       "    </tr>\n",
       "    <tr>\n",
       "      <th>Metal</th>\n",
       "      <td>0.646617</td>\n",
       "      <td>0.781818</td>\n",
       "      <td>0.707819</td>\n",
       "      <td>110.000000</td>\n",
       "    </tr>\n",
       "    <tr>\n",
       "      <th>Pop</th>\n",
       "      <td>0.621622</td>\n",
       "      <td>0.627273</td>\n",
       "      <td>0.624434</td>\n",
       "      <td>110.000000</td>\n",
       "    </tr>\n",
       "    <tr>\n",
       "      <th>Rock</th>\n",
       "      <td>0.417582</td>\n",
       "      <td>0.345455</td>\n",
       "      <td>0.378109</td>\n",
       "      <td>110.000000</td>\n",
       "    </tr>\n",
       "    <tr>\n",
       "      <th>accuracy</th>\n",
       "      <td>0.626136</td>\n",
       "      <td>0.626136</td>\n",
       "      <td>0.626136</td>\n",
       "      <td>0.626136</td>\n",
       "    </tr>\n",
       "    <tr>\n",
       "      <th>macro avg</th>\n",
       "      <td>0.637042</td>\n",
       "      <td>0.626136</td>\n",
       "      <td>0.625174</td>\n",
       "      <td>880.000000</td>\n",
       "    </tr>\n",
       "    <tr>\n",
       "      <th>weighted avg</th>\n",
       "      <td>0.637042</td>\n",
       "      <td>0.626136</td>\n",
       "      <td>0.625174</td>\n",
       "      <td>880.000000</td>\n",
       "    </tr>\n",
       "  </tbody>\n",
       "</table>\n",
       "</div>"
      ],
      "text/plain": [
       "              precision    recall  f1-score     support\n",
       "Blues          0.447368  0.618182  0.519084  110.000000\n",
       "Classical      0.834783  0.872727  0.853333  110.000000\n",
       "Country        0.588785  0.572727  0.580645  110.000000\n",
       "Hip-Hop        0.739583  0.645455  0.689320  110.000000\n",
       "Jazz           0.800000  0.545455  0.648649  110.000000\n",
       "Metal          0.646617  0.781818  0.707819  110.000000\n",
       "Pop            0.621622  0.627273  0.624434  110.000000\n",
       "Rock           0.417582  0.345455  0.378109  110.000000\n",
       "accuracy       0.626136  0.626136  0.626136    0.626136\n",
       "macro avg      0.637042  0.626136  0.625174  880.000000\n",
       "weighted avg   0.637042  0.626136  0.625174  880.000000"
      ]
     },
     "execution_count": 23,
     "metadata": {},
     "output_type": "execute_result"
    }
   ],
   "source": [
    "# Create pandas df from classification report\n",
    "report = classification_report(Y_Test, y_pred, target_names=list(le.classes_), output_dict=True)\n",
    "reportdf = pd.DataFrame(report)\n",
    "reportdf.T"
   ]
  },
  {
   "cell_type": "code",
   "execution_count": 24,
   "metadata": {},
   "outputs": [],
   "source": [
    "# Export to latex\n",
    "reportdf.to_latex('Class_Report_Pitch_' + mtype + '.tex', float_format=\"%.3f\")"
   ]
  },
  {
   "cell_type": "code",
   "execution_count": null,
   "metadata": {},
   "outputs": [],
   "source": []
  }
 ],
 "metadata": {
  "kernelspec": {
   "display_name": "Python 3",
   "language": "python",
   "name": "python3"
  },
  "language_info": {
   "codemirror_mode": {
    "name": "ipython",
    "version": 3
   },
   "file_extension": ".py",
   "mimetype": "text/x-python",
   "name": "python",
   "nbconvert_exporter": "python",
   "pygments_lexer": "ipython3",
   "version": "3.7.5"
  }
 },
 "nbformat": 4,
 "nbformat_minor": 2
}
