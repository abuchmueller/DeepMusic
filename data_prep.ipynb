{
 "cells": [
  {
   "cell_type": "code",
   "execution_count": 1,
   "metadata": {},
   "outputs": [],
   "source": [
    "import json\n",
    "import pandas as pd\n",
    "import numpy as np\n",
    "import random"
   ]
  },
  {
   "cell_type": "markdown",
   "metadata": {},
   "source": [
    "### Load Spotify Data"
   ]
  },
  {
   "cell_type": "code",
   "execution_count": 2,
   "metadata": {},
   "outputs": [],
   "source": [
    "# Reading a JSON file\n",
    "with open('spotify_data.json', 'r') as f:\n",
    "    data = json.load(f)"
   ]
  },
  {
   "cell_type": "markdown",
   "metadata": {},
   "source": [
    "### Data of Interest"
   ]
  },
  {
   "cell_type": "markdown",
   "metadata": {},
   "source": [
    "This is the data of interest. For our labels, we need the genre of each track, for out Input arrays we use pitch and timbre values of each segment."
   ]
  },
  {
   "cell_type": "code",
   "execution_count": 3,
   "metadata": {},
   "outputs": [
    {
     "data": {
      "text/plain": [
       "'Rock'"
      ]
     },
     "execution_count": 3,
     "metadata": {},
     "output_type": "execute_result"
    }
   ],
   "source": [
    "# Genre tag\n",
    "data[0]['Genre']"
   ]
  },
  {
   "cell_type": "code",
   "execution_count": 4,
   "metadata": {},
   "outputs": [
    {
     "data": {
      "text/plain": [
       "[1.0,\n",
       " 0.908,\n",
       " 0.039,\n",
       " 0.032,\n",
       " 0.028,\n",
       " 0.025,\n",
       " 0.021,\n",
       " 0.022,\n",
       " 0.023,\n",
       " 0.014,\n",
       " 0.008,\n",
       " 0.07]"
      ]
     },
     "execution_count": 4,
     "metadata": {},
     "output_type": "execute_result"
    }
   ],
   "source": [
    "# Access to pitch vector of a segment of a track\n",
    "data[0]['segments'][0]['pitches']"
   ]
  },
  {
   "cell_type": "code",
   "execution_count": 5,
   "metadata": {},
   "outputs": [
    {
     "data": {
      "text/plain": [
       "[1.328,\n",
       " 152.697,\n",
       " 16.436,\n",
       " -61.842,\n",
       " 48.839,\n",
       " -61.504,\n",
       " 28.814,\n",
       " -28.79,\n",
       " -30.275,\n",
       " -2.638,\n",
       " 11.721,\n",
       " -9.813]"
      ]
     },
     "execution_count": 5,
     "metadata": {},
     "output_type": "execute_result"
    }
   ],
   "source": [
    "# Access to timbre vector of a segment of a track\n",
    "data[0]['segments'][0]['timbre']"
   ]
  },
  {
   "cell_type": "markdown",
   "metadata": {},
   "source": [
    "### Sample balancing"
   ]
  },
  {
   "cell_type": "code",
   "execution_count": 6,
   "metadata": {},
   "outputs": [],
   "source": [
    "genres = []\n",
    "for i in data:\n",
    "    genre = i['Genre']\n",
    "    genres.append(genre)\n",
    "\n",
    "y = np.array(genres)"
   ]
  },
  {
   "cell_type": "code",
   "execution_count": 7,
   "metadata": {
    "scrolled": false
   },
   "outputs": [
    {
     "data": {
      "text/plain": [
       "Jazz         1414\n",
       "Metal        1404\n",
       "Country      1363\n",
       "Classical    1259\n",
       "Rock         1213\n",
       "Hip-Hop      1208\n",
       "Pop          1153\n",
       "Blues        1101\n",
       "Name: 0, dtype: int64"
      ]
     },
     "execution_count": 7,
     "metadata": {},
     "output_type": "execute_result"
    }
   ],
   "source": [
    "# Count unique occurrences of each genre in response vector\n",
    "y_df = pd.DataFrame(y)\n",
    "y_df[0].value_counts()"
   ]
  },
  {
   "cell_type": "markdown",
   "metadata": {},
   "source": [
    "Sample is unbalanced. Balance by dropping out some observations (downsampling by resampling without replacement)"
   ]
  },
  {
   "cell_type": "code",
   "execution_count": 8,
   "metadata": {},
   "outputs": [],
   "source": [
    "# Balancing\n",
    "datarock = []\n",
    "datapop = []\n",
    "datacountry = []\n",
    "dataclassic = []\n",
    "datametal = []\n",
    "datahiphop = []\n",
    "datablues = []\n",
    "datajazz = []\n",
    "\n",
    "\n",
    "for item in data:\n",
    "    if item['Genre'] == 'Rock':\n",
    "        datarock.append(item)\n",
    "    elif item['Genre'] == 'Pop':\n",
    "        datapop.append(item)\n",
    "    elif item['Genre'] == 'Country':\n",
    "        datacountry.append(item)\n",
    "    elif item['Genre'] == 'Classical':\n",
    "        dataclassic.append(item)\n",
    "    elif item['Genre'] == 'Metal':\n",
    "        datametal.append(item)\n",
    "    elif item['Genre'] == 'Hip-Hop':\n",
    "        datahiphop.append(item)\n",
    "    elif item['Genre'] == 'Blues':\n",
    "        datablues.append(item)\n",
    "    elif item['Genre'] == 'Jazz':\n",
    "        datajazz.append(item)\n",
    "\n",
    "random.shuffle(datarock)\n",
    "random.shuffle(datapop)\n",
    "random.shuffle(datacountry)\n",
    "random.shuffle(dataclassic)\n",
    "random.shuffle(datahiphop)\n",
    "random.shuffle(datametal)\n",
    "random.shuffle(datajazz)\n",
    "random.shuffle(datablues)\n",
    "\n",
    "datatrainrock = datarock[:880]\n",
    "datatrainpop = datapop[:880]\n",
    "datatraincountry = datacountry[:880]\n",
    "datatrainclassic = dataclassic[:880]\n",
    "datatrainmetal = datametal[:880]\n",
    "datatrainhiphop = datahiphop[:880]\n",
    "datatrainblues = datablues[:880]\n",
    "datatrainjazz = datajazz[:880]\n",
    "\n",
    "datavalrock = datarock[880:990]\n",
    "datavalpop = datapop[880:990]\n",
    "datavalcountry = datacountry[880:990]\n",
    "datavalclassic = dataclassic[880:990]\n",
    "datavalmetal = datametal[880:990]\n",
    "datavalhiphop = datahiphop[880:990]\n",
    "datavalblues = datablues[880:990]\n",
    "datavaljazz = datajazz[880:990]\n",
    "\n",
    "datatestrock = datarock[990:1100]\n",
    "datatestpop = datapop[990:1100]\n",
    "datatestcountry = datacountry[990:1100]\n",
    "datatestclassic = dataclassic[990:1100]\n",
    "datatestmetal = datametal[990:1100]\n",
    "datatesthiphop = datahiphop[990:1100]\n",
    "datatestblues = datablues[990:1100]\n",
    "datatestjazz = datajazz[990:1100]\n",
    "\n",
    "datatrain = datatrainrock + datatrainpop + datatrainhiphop + datatrainclassic + datatraincountry + datatrainmetal + datatrainjazz + datatrainblues\n",
    "dataval = datavalrock + datavalpop + datavalhiphop + datavalclassic + datavalcountry + datavalmetal + datavaljazz + datavalblues\n",
    "datatest = datatestrock + datatestpop + datatesthiphop + datatestclassic + datatestcountry + datatestmetal + datatestjazz + datatestblues"
   ]
  },
  {
   "cell_type": "code",
   "execution_count": 37,
   "metadata": {},
   "outputs": [],
   "source": [
    "# Shuffle\n",
    "random.shuffle(datatrain)\n",
    "random.shuffle(dataval)\n",
    "random.shuffle(datatest)"
   ]
  },
  {
   "cell_type": "code",
   "execution_count": 9,
   "metadata": {},
   "outputs": [],
   "source": [
    "# Combine\n",
    "data_b = datatrain + dataval + datatest"
   ]
  },
  {
   "cell_type": "markdown",
   "metadata": {},
   "source": [
    "### Create Input arrays"
   ]
  },
  {
   "cell_type": "code",
   "execution_count": 67,
   "metadata": {},
   "outputs": [],
   "source": [
    "# No. of segments to include for each track\n",
    "segs = 512"
   ]
  },
  {
   "cell_type": "markdown",
   "metadata": {},
   "source": [
    "#### Train "
   ]
  },
  {
   "cell_type": "code",
   "execution_count": 68,
   "metadata": {},
   "outputs": [],
   "source": [
    "# Create Input Arrays\n",
    "N = len(datatrain)\n",
    "\n",
    "# Create empty array with appropriate dimensions\n",
    "X_Train = np.empty((N, segs, 12, 2))\n",
    "\n",
    "# Input array with timbre + pitch\n",
    "# Combine pitches and timbre vectors of each track, each segment into numpy array\n",
    "for i in range(len(datatrain)):\n",
    "    for j in range(len(datatrain[i]['segments'][:segs])):\n",
    "        timbre = datatrain[i]['segments'][j]['timbre']\n",
    "        pitch = datatrain[i]['segments'][j]['pitches']\n",
    "        mat = np.append([timbre], [pitch], axis=0)\n",
    "        X_Train[i][j] = mat.T\n",
    "\n",
    "# Input array timbre only\n",
    "Xt_Train = np.empty((N, segs, 12))\n",
    "for i in range(len(datatrain)):\n",
    "    for j in range(len(datatrain[i]['segments'][:segs])):\n",
    "        timbre = np.array(datatrain[i]['segments'][j]['timbre'])\n",
    "        Xt_Train[i][j] = timbre\n",
    "\n",
    "# Input array pitch only\n",
    "Xp_Train = np.empty((N, segs, 12))\n",
    "for i in range(len(datatrain)):\n",
    "    for j in range(len(datatrain[i]['segments'][:segs])):\n",
    "        pitch = np.array(datatrain[i]['segments'][j]['pitches'])\n",
    "        Xp_Train[i][j] = pitch"
   ]
  },
  {
   "cell_type": "markdown",
   "metadata": {},
   "source": [
    "#### Validation"
   ]
  },
  {
   "cell_type": "code",
   "execution_count": 69,
   "metadata": {},
   "outputs": [],
   "source": [
    "# Create Input Arrays\n",
    "N = len(dataval)\n",
    "\n",
    "# Create empty array with appropriate dimensions\n",
    "X_Val = np.empty((N, segs, 12, 2))\n",
    "\n",
    "# Input array with timbre + pitch\n",
    "# Combine pitches and timbre vectors of each track, each segment into numpy array\n",
    "for i in range(len(dataval)):\n",
    "    for j in range(len(dataval[i]['segments'][:segs])):\n",
    "        timbre = dataval[i]['segments'][j]['timbre']\n",
    "        pitch = dataval[i]['segments'][j]['pitches']\n",
    "        mat = np.append([timbre], [pitch], axis=0)\n",
    "        X_Val[i][j] = mat.T\n",
    "\n",
    "# Input array timbre only\n",
    "Xt_Val = np.empty((N, segs, 12))\n",
    "for i in range(len(dataval)):\n",
    "    for j in range(len(dataval[i]['segments'][:segs])):\n",
    "        timbre = np.array(dataval[i]['segments'][j]['timbre'])\n",
    "        Xt_Val[i][j] = timbre\n",
    "\n",
    "# Input array pitch only\n",
    "Xp_Val = np.empty((N, segs, 12))\n",
    "for i in range(len(dataval)):\n",
    "    for j in range(len(dataval[i]['segments'][:segs])):\n",
    "        pitch = np.array(dataval[i]['segments'][j]['pitches'])\n",
    "        Xp_Val[i][j] = pitch"
   ]
  },
  {
   "cell_type": "markdown",
   "metadata": {},
   "source": [
    "#### Test"
   ]
  },
  {
   "cell_type": "code",
   "execution_count": 70,
   "metadata": {},
   "outputs": [],
   "source": [
    "# Create Input Arrays\n",
    "N = len(datatest)\n",
    "\n",
    "# Create empty array with appropriate dimensions\n",
    "X_Test = np.empty((N, segs, 12, 2))\n",
    "\n",
    "# Input array with timbre + pitch\n",
    "# Combine pitches and timbre vectors of each track, each segment into numpy array\n",
    "for i in range(len(datatest)):\n",
    "    for j in range(len(datatest[i]['segments'][:segs])):\n",
    "        timbre = datatest[i]['segments'][j]['timbre']\n",
    "        pitch = datatest[i]['segments'][j]['pitches']\n",
    "        mat = np.append([timbre], [pitch], axis=0)\n",
    "        X_Test[i][j] = mat.T\n",
    "\n",
    "# Input array timbre only\n",
    "Xt_Test = np.empty((N, segs, 12))\n",
    "for i in range(len(datatest)):\n",
    "    for j in range(len(datatest[i]['segments'][:segs])):\n",
    "        timbre = np.array(datatest[i]['segments'][j]['timbre'])\n",
    "        Xt_Test[i][j] = timbre\n",
    "\n",
    "# Input array pitch only\n",
    "Xp_Test = np.empty((N, segs, 12))\n",
    "for i in range(len(datatest)):\n",
    "    for j in range(len(datatest[i]['segments'][:segs])):\n",
    "        pitch = np.array(datatest[i]['segments'][j]['pitches'])\n",
    "        Xp_Test[i][j] = pitch"
   ]
  },
  {
   "cell_type": "markdown",
   "metadata": {},
   "source": [
    "### Labels"
   ]
  },
  {
   "cell_type": "code",
   "execution_count": 71,
   "metadata": {},
   "outputs": [],
   "source": [
    "genre = []\n",
    "for i in datatrain:\n",
    "    genre = i['Genre']\n",
    "    genre.append(genre)\n",
    "\n",
    "Y_Train = np.array(genre)"
   ]
  },
  {
   "cell_type": "code",
   "execution_count": 72,
   "metadata": {},
   "outputs": [],
   "source": [
    "genre = []\n",
    "for i in dataval:\n",
    "    genre = i['Genre']\n",
    "    genre.append(genre)\n",
    "\n",
    "Y_Val = np.array(genres)"
   ]
  },
  {
   "cell_type": "code",
   "execution_count": 73,
   "metadata": {},
   "outputs": [],
   "source": [
    "genre = []\n",
    "for i in datatest:\n",
    "    genre = i['Genre']\n",
    "    genre.append(genre)\n",
    "\n",
    "Y_Test = np.array(genre)"
   ]
  },
  {
   "cell_type": "code",
   "execution_count": 74,
   "metadata": {
    "scrolled": false
   },
   "outputs": [
    {
     "data": {
      "text/plain": [
       "(Jazz         880\n",
       " Blues        880\n",
       " Classical    880\n",
       " Hip-Hop      880\n",
       " Pop          880\n",
       " Country      880\n",
       " Rock         880\n",
       " Metal        880\n",
       " Name: 0, dtype: int64,\n",
       " Jazz         110\n",
       " Hip-Hop      110\n",
       " Country      110\n",
       " Rock         110\n",
       " Classical    110\n",
       " Metal        110\n",
       " Pop          110\n",
       " Blues        110\n",
       " Name: 0, dtype: int64,\n",
       " Jazz         110\n",
       " Hip-Hop      110\n",
       " Country      110\n",
       " Rock         110\n",
       " Classical    110\n",
       " Metal        110\n",
       " Pop          110\n",
       " Blues        110\n",
       " Name: 0, dtype: int64)"
      ]
     },
     "execution_count": 74,
     "metadata": {},
     "output_type": "execute_result"
    }
   ],
   "source": [
    "# Verify our sample is balanced\n",
    "pd.DataFrame(Y_Train)[0].value_counts(),pd.DataFrame(Y_Val)[0].value_counts(),pd.DataFrame(Y_Test)[0].value_counts()"
   ]
  },
  {
   "cell_type": "markdown",
   "metadata": {},
   "source": [
    "==> Sample is balanced"
   ]
  },
  {
   "cell_type": "markdown",
   "metadata": {},
   "source": [
    "### Save compressed NumPy Arrays"
   ]
  },
  {
   "cell_type": "code",
   "execution_count": 75,
   "metadata": {},
   "outputs": [],
   "source": [
    "# Save compressed NumPy Arrays\n",
    "np.savez_compressed('orpheusC' + str(segs) + '.npz', \n",
    "                    X_Train=X_Train, Xt_Train=Xt_Train, Xp_Train=Xp_Train, \n",
    "                    X_Val=X_Val, Xt_Val=Xt_Val, Xp_Val=Xp_Val, \n",
    "                    X_Test=X_Test, Xt_Test=Xt_Test, Xp_Test=Xp_Test, \n",
    "                    Y_Train=Y_Train, Y_Val=Y_Val, Y_Test=Y_Test)"
   ]
  }
 ],
 "metadata": {
  "kernelspec": {
   "display_name": "Python 3",
   "language": "python",
   "name": "python3"
  },
  "language_info": {
   "codemirror_mode": {
    "name": "ipython",
    "version": 3
   },
   "file_extension": ".py",
   "mimetype": "text/x-python",
   "name": "python",
   "nbconvert_exporter": "python",
   "pygments_lexer": "ipython3",
   "version": "3.7.5"
  }
 },
 "nbformat": 4,
 "nbformat_minor": 2
}
