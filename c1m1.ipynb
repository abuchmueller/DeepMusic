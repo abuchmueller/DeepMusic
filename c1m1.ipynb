{
 "cells": [
  {
   "cell_type": "code",
   "execution_count": 1,
   "metadata": {
    "scrolled": true
   },
   "outputs": [
    {
     "name": "stderr",
     "output_type": "stream",
     "text": [
      "Using TensorFlow backend.\n"
     ]
    }
   ],
   "source": [
    "import os\n",
    "import numpy as np\n",
    "from sklearn import preprocessing\n",
    "\n",
    "import keras\n",
    "from keras.models import Sequential, Model\n",
    "from keras.layers import Input, Dense, LSTM, Dropout, Activation\n",
    "from keras.layers import Conv1D, MaxPooling1D, Flatten, BatchNormalization, Lambda, AveragePooling1D\n",
    "from keras.layers import GlobalMaxPooling1D, GlobalAveragePooling1D, Add\n",
    "from keras.callbacks import EarlyStopping\n",
    "from keras.optimizers import Adam, RMSprop, SGD\n",
    "from keras import regularizers"
   ]
  },
  {
   "cell_type": "markdown",
   "metadata": {},
   "source": [
    "# Modeling"
   ]
  },
  {
   "cell_type": "markdown",
   "metadata": {},
   "source": [
    "### Load NumPy Arrays & convert labels"
   ]
  },
  {
   "cell_type": "code",
   "execution_count": 2,
   "metadata": {},
   "outputs": [],
   "source": [
    "segs = 512"
   ]
  },
  {
   "cell_type": "code",
   "execution_count": 3,
   "metadata": {},
   "outputs": [],
   "source": [
    "# Load compressed NumPy arrays\n",
    "with np.load('orpheusC' + str(segs) + '.npz') as data:\n",
    "    X_Train = data['Xt_Train']\n",
    "    X_Val = data['Xt_Val']\n",
    "    X_Test = data['Xt_Test']\n",
    "    Y_Train = data['Y_Train']\n",
    "    Y_Val  = data['Y_Val']\n",
    "    Y_Test = data['Y_Test']"
   ]
  },
  {
   "cell_type": "code",
   "execution_count": 4,
   "metadata": {
    "scrolled": true
   },
   "outputs": [
    {
     "data": {
      "text/plain": [
       "array(['Blues', 'Classical', 'Country', 'Hip-Hop', 'Jazz', 'Metal', 'Pop',\n",
       "       'Rock'], dtype='<U9')"
      ]
     },
     "execution_count": 4,
     "metadata": {},
     "output_type": "execute_result"
    }
   ],
   "source": [
    "# Convert numerical labels to integers\n",
    "le = preprocessing.LabelEncoder()\n",
    "Y_Train = le.fit_transform(Y_Train)\n",
    "Y_Val = le.fit_transform(Y_Val)\n",
    "Y_Test = le.fit_transform(Y_Test)\n",
    "le.classes_"
   ]
  },
  {
   "cell_type": "code",
   "execution_count": 5,
   "metadata": {
    "scrolled": true
   },
   "outputs": [
    {
     "data": {
      "text/plain": [
       "(Metal        880\n",
       " Jazz         880\n",
       " Classical    880\n",
       " Country      880\n",
       " Rock         880\n",
       " Blues        880\n",
       " Hip-Hop      880\n",
       " Pop          880\n",
       " Name: 0, dtype: int64,\n",
       " Rock         110\n",
       " Classical    110\n",
       " Country      110\n",
       " Jazz         110\n",
       " Hip-Hop      110\n",
       " Pop          110\n",
       " Metal        110\n",
       " Blues        110\n",
       " Name: 0, dtype: int64,\n",
       " Rock         110\n",
       " Classical    110\n",
       " Country      110\n",
       " Jazz         110\n",
       " Hip-Hop      110\n",
       " Pop          110\n",
       " Metal        110\n",
       " Blues        110\n",
       " Name: 0, dtype: int64)"
      ]
     },
     "execution_count": 5,
     "metadata": {},
     "output_type": "execute_result"
    }
   ],
   "source": [
    "# Verify sample balance before training\n",
    "import pandas as pd\n",
    "Y_Traindf = pd.DataFrame(le.inverse_transform(Y_Train))\n",
    "Y_Valdf = pd.DataFrame(le.inverse_transform(Y_Val))\n",
    "Y_Testdf = pd.DataFrame(le.inverse_transform(Y_Test))\n",
    "Y_Traindf[0].value_counts(),Y_Valdf[0].value_counts(),Y_Testdf[0].value_counts()"
   ]
  },
  {
   "cell_type": "markdown",
   "metadata": {},
   "source": [
    "### Build Model(s)"
   ]
  },
  {
   "cell_type": "code",
   "execution_count": 6,
   "metadata": {},
   "outputs": [],
   "source": [
    "# Specifying input shape for first layer\n",
    "input_shape = (segs, 12)"
   ]
  },
  {
   "cell_type": "markdown",
   "metadata": {},
   "source": [
    "#### CNN (Timbre)"
   ]
  },
  {
   "cell_type": "code",
   "execution_count": 7,
   "metadata": {},
   "outputs": [],
   "source": [
    "# Set dropout rate\n",
    "dr = 0.25"
   ]
  },
  {
   "cell_type": "code",
   "execution_count": 8,
   "metadata": {
    "scrolled": true
   },
   "outputs": [
    {
     "name": "stdout",
     "output_type": "stream",
     "text": [
      "WARNING:tensorflow:From /Users/abuchmueller/opt/anaconda3/envs/P37/lib/python3.7/site-packages/keras/backend/tensorflow_backend.py:4070: The name tf.nn.max_pool is deprecated. Please use tf.nn.max_pool2d instead.\n",
      "\n"
     ]
    }
   ],
   "source": [
    "# Build model using Sequential API\n",
    "model = Sequential()\n",
    "\n",
    "# 3x 1D Convolution layers\n",
    "model.add(Conv1D(48, 5, activation='relu', input_shape=input_shape, data_format='channels_last'))\n",
    "model.add(MaxPooling1D(pool_size=2))\n",
    "model.add(Dropout(rate=dr))\n",
    "\n",
    "model.add(Conv1D(64, 5, activation='relu', padding=\"same\"))\n",
    "model.add(MaxPooling1D(pool_size=2))\n",
    "model.add(Dropout(rate=dr))\n",
    "\n",
    "model.add(Conv1D(64, 5, activation='relu', padding=\"same\"))\n",
    "model.add(MaxPooling1D(pool_size=2))\n",
    "model.add(Dropout(rate=dr))\n",
    "\n",
    "model.add(Flatten()) \n",
    "model.add(Dropout(rate=dr))\n",
    "\n",
    "# Dense Layer with ReLU activation\n",
    "model.add(Dense(64, activation='relu'))\n",
    "\n",
    "# Output layer\n",
    "model.add(Dense(8, activation='softmax'))\n",
    "\n",
    "mtype = 'cnn'"
   ]
  },
  {
   "cell_type": "markdown",
   "metadata": {},
   "source": [
    "### Compile Model"
   ]
  },
  {
   "cell_type": "code",
   "execution_count": 10,
   "metadata": {
    "scrolled": true
   },
   "outputs": [],
   "source": [
    "model.compile(optimizer='adam', loss='sparse_categorical_crossentropy', metrics=['accuracy'])"
   ]
  },
  {
   "cell_type": "markdown",
   "metadata": {},
   "source": [
    "### Train Model"
   ]
  },
  {
   "cell_type": "code",
   "execution_count": 11,
   "metadata": {
    "scrolled": true
   },
   "outputs": [],
   "source": [
    "es = EarlyStopping(monitor='val_accuracy', mode='max', verbose=1, min_delta=0.01, patience=8)"
   ]
  },
  {
   "cell_type": "code",
   "execution_count": 12,
   "metadata": {
    "scrolled": true
   },
   "outputs": [
    {
     "name": "stdout",
     "output_type": "stream",
     "text": [
      "WARNING:tensorflow:From /Users/abuchmueller/opt/anaconda3/envs/P37/lib/python3.7/site-packages/keras/backend/tensorflow_backend.py:422: The name tf.global_variables is deprecated. Please use tf.compat.v1.global_variables instead.\n",
      "\n",
      "Train on 7040 samples, validate on 880 samples\n",
      "Epoch 1/100\n",
      "7040/7040 [==============================] - 19s 3ms/step - loss: 4.0477 - accuracy: 0.2561 - val_loss: 1.5373 - val_accuracy: 0.4114\n",
      "Epoch 2/100\n",
      "7040/7040 [==============================] - 18s 3ms/step - loss: 1.4748 - accuracy: 0.4271 - val_loss: 1.3267 - val_accuracy: 0.5011\n",
      "Epoch 3/100\n",
      "7040/7040 [==============================] - 18s 2ms/step - loss: 1.3095 - accuracy: 0.4964 - val_loss: 1.2673 - val_accuracy: 0.5023\n",
      "Epoch 4/100\n",
      "7040/7040 [==============================] - 18s 3ms/step - loss: 1.1996 - accuracy: 0.5378 - val_loss: 1.2406 - val_accuracy: 0.5398\n",
      "Epoch 5/100\n",
      "7040/7040 [==============================] - 18s 3ms/step - loss: 1.1257 - accuracy: 0.5626 - val_loss: 1.1417 - val_accuracy: 0.5830\n",
      "Epoch 6/100\n",
      "7040/7040 [==============================] - 18s 3ms/step - loss: 1.0728 - accuracy: 0.5919 - val_loss: 1.0740 - val_accuracy: 0.6068\n",
      "Epoch 7/100\n",
      "7040/7040 [==============================] - 18s 3ms/step - loss: 1.0274 - accuracy: 0.6038 - val_loss: 1.0396 - val_accuracy: 0.6182\n",
      "Epoch 8/100\n",
      "7040/7040 [==============================] - 18s 2ms/step - loss: 0.9915 - accuracy: 0.6168 - val_loss: 1.0562 - val_accuracy: 0.6148\n",
      "Epoch 9/100\n",
      "7040/7040 [==============================] - 18s 3ms/step - loss: 0.9573 - accuracy: 0.6278 - val_loss: 1.0200 - val_accuracy: 0.6250\n",
      "Epoch 10/100\n",
      "7040/7040 [==============================] - 18s 3ms/step - loss: 0.9193 - accuracy: 0.6445 - val_loss: 0.9945 - val_accuracy: 0.6125\n",
      "Epoch 11/100\n",
      "7040/7040 [==============================] - 18s 3ms/step - loss: 0.8914 - accuracy: 0.6601 - val_loss: 0.9748 - val_accuracy: 0.6432\n",
      "Epoch 12/100\n",
      "7040/7040 [==============================] - 18s 3ms/step - loss: 0.8577 - accuracy: 0.6695 - val_loss: 0.9277 - val_accuracy: 0.6614\n",
      "Epoch 13/100\n",
      "7040/7040 [==============================] - 18s 3ms/step - loss: 0.8349 - accuracy: 0.6838 - val_loss: 0.9337 - val_accuracy: 0.6614\n",
      "Epoch 14/100\n",
      "7040/7040 [==============================] - 18s 3ms/step - loss: 0.8336 - accuracy: 0.6812 - val_loss: 0.9278 - val_accuracy: 0.6545\n",
      "Epoch 15/100\n",
      "7040/7040 [==============================] - 18s 3ms/step - loss: 0.7821 - accuracy: 0.7010 - val_loss: 0.8596 - val_accuracy: 0.6818\n",
      "Epoch 16/100\n",
      "7040/7040 [==============================] - 18s 3ms/step - loss: 0.7676 - accuracy: 0.7057 - val_loss: 0.8763 - val_accuracy: 0.6750\n",
      "Epoch 17/100\n",
      "7040/7040 [==============================] - 18s 3ms/step - loss: 0.7578 - accuracy: 0.7098 - val_loss: 0.8718 - val_accuracy: 0.6648\n",
      "Epoch 18/100\n",
      "7040/7040 [==============================] - 18s 3ms/step - loss: 0.7355 - accuracy: 0.7153 - val_loss: 0.8674 - val_accuracy: 0.6886\n",
      "Epoch 19/100\n",
      "7040/7040 [==============================] - 18s 3ms/step - loss: 0.7207 - accuracy: 0.7259 - val_loss: 0.8728 - val_accuracy: 0.6943\n",
      "Epoch 20/100\n",
      "7040/7040 [==============================] - 18s 3ms/step - loss: 0.7118 - accuracy: 0.7227 - val_loss: 0.8719 - val_accuracy: 0.6636\n",
      "Epoch 21/100\n",
      "7040/7040 [==============================] - 18s 3ms/step - loss: 0.7021 - accuracy: 0.7276 - val_loss: 0.8600 - val_accuracy: 0.6852\n",
      "Epoch 22/100\n",
      "7040/7040 [==============================] - 18s 3ms/step - loss: 0.6812 - accuracy: 0.7317 - val_loss: 0.8556 - val_accuracy: 0.6920\n",
      "Epoch 23/100\n",
      "7040/7040 [==============================] - 18s 3ms/step - loss: 0.6674 - accuracy: 0.7457 - val_loss: 0.9125 - val_accuracy: 0.6705\n",
      "Epoch 24/100\n",
      "7040/7040 [==============================] - 18s 3ms/step - loss: 0.6435 - accuracy: 0.7567 - val_loss: 0.8678 - val_accuracy: 0.6795\n",
      "Epoch 25/100\n",
      "7040/7040 [==============================] - 18s 3ms/step - loss: 0.6504 - accuracy: 0.7484 - val_loss: 0.8747 - val_accuracy: 0.7136\n",
      "Epoch 26/100\n",
      "7040/7040 [==============================] - 18s 3ms/step - loss: 0.6234 - accuracy: 0.7632 - val_loss: 0.8148 - val_accuracy: 0.6966\n",
      "Epoch 27/100\n",
      "7040/7040 [==============================] - 18s 3ms/step - loss: 0.6040 - accuracy: 0.7639 - val_loss: 0.8527 - val_accuracy: 0.7011\n",
      "Epoch 28/100\n",
      "7040/7040 [==============================] - 18s 3ms/step - loss: 0.5990 - accuracy: 0.7754 - val_loss: 0.8470 - val_accuracy: 0.7114\n",
      "Epoch 29/100\n",
      "7040/7040 [==============================] - 18s 3ms/step - loss: 0.5907 - accuracy: 0.7756 - val_loss: 0.8584 - val_accuracy: 0.7000\n",
      "Epoch 30/100\n",
      "7040/7040 [==============================] - 18s 3ms/step - loss: 0.5858 - accuracy: 0.7832 - val_loss: 0.8659 - val_accuracy: 0.6841\n",
      "Epoch 31/100\n",
      "7040/7040 [==============================] - 18s 3ms/step - loss: 0.5807 - accuracy: 0.7835 - val_loss: 0.8977 - val_accuracy: 0.6886\n",
      "Epoch 32/100\n",
      "7040/7040 [==============================] - 18s 3ms/step - loss: 0.5593 - accuracy: 0.7902 - val_loss: 0.8831 - val_accuracy: 0.7136\n",
      "Epoch 33/100\n",
      "7040/7040 [==============================] - 18s 3ms/step - loss: 0.5686 - accuracy: 0.7847 - val_loss: 1.0067 - val_accuracy: 0.6614\n",
      "Epoch 00033: early stopping\n"
     ]
    }
   ],
   "source": [
    "# iterating 30 times on the data in batches of 32 samples then saving training history\n",
    "hist = model.fit(X_Train, Y_Train, epochs=100, batch_size=32, validation_data=(X_Val, Y_Val), callbacks=[es])"
   ]
  },
  {
   "cell_type": "code",
   "execution_count": 13,
   "metadata": {
    "scrolled": false
   },
   "outputs": [
    {
     "name": "stdout",
     "output_type": "stream",
     "text": [
      "Model: \"sequential_1\"\n",
      "_________________________________________________________________\n",
      "Layer (type)                 Output Shape              Param #   \n",
      "=================================================================\n",
      "conv1d_1 (Conv1D)            (None, 508, 48)           2928      \n",
      "_________________________________________________________________\n",
      "max_pooling1d_1 (MaxPooling1 (None, 254, 48)           0         \n",
      "_________________________________________________________________\n",
      "dropout_1 (Dropout)          (None, 254, 48)           0         \n",
      "_________________________________________________________________\n",
      "conv1d_2 (Conv1D)            (None, 254, 64)           15424     \n",
      "_________________________________________________________________\n",
      "max_pooling1d_2 (MaxPooling1 (None, 127, 64)           0         \n",
      "_________________________________________________________________\n",
      "dropout_2 (Dropout)          (None, 127, 64)           0         \n",
      "_________________________________________________________________\n",
      "conv1d_3 (Conv1D)            (None, 127, 64)           20544     \n",
      "_________________________________________________________________\n",
      "max_pooling1d_3 (MaxPooling1 (None, 63, 64)            0         \n",
      "_________________________________________________________________\n",
      "dropout_3 (Dropout)          (None, 63, 64)            0         \n",
      "_________________________________________________________________\n",
      "flatten_1 (Flatten)          (None, 4032)              0         \n",
      "_________________________________________________________________\n",
      "dropout_4 (Dropout)          (None, 4032)              0         \n",
      "_________________________________________________________________\n",
      "dense_1 (Dense)              (None, 64)                258112    \n",
      "_________________________________________________________________\n",
      "dense_2 (Dense)              (None, 8)                 520       \n",
      "=================================================================\n",
      "Total params: 297,528\n",
      "Trainable params: 297,528\n",
      "Non-trainable params: 0\n",
      "_________________________________________________________________\n"
     ]
    }
   ],
   "source": [
    "# Model Summary\n",
    "model.summary()"
   ]
  },
  {
   "cell_type": "code",
   "execution_count": 14,
   "metadata": {
    "scrolled": true
   },
   "outputs": [
    {
     "name": "stdout",
     "output_type": "stream",
     "text": [
      "880/880 [==============================] - 1s 827us/step\n"
     ]
    }
   ],
   "source": [
    "model.save(os.getcwd() + '/models/timbre/' + mtype + str(segs) + '_' + str(round(model.evaluate(X_Test, Y_Test)[1], 3)) + '.h5')"
   ]
  },
  {
   "cell_type": "markdown",
   "metadata": {},
   "source": [
    "# Model Evaluation"
   ]
  },
  {
   "cell_type": "markdown",
   "metadata": {},
   "source": [
    "### Plotting training and validation loss"
   ]
  },
  {
   "cell_type": "code",
   "execution_count": 15,
   "metadata": {
    "scrolled": true
   },
   "outputs": [
    {
     "data": {
      "image/png": "[encoded data removed]",
      "text/plain": [
       "<Figure size 432x432 with 1 Axes>"
      ]
     },
     "metadata": {
      "needs_background": "light"
     },
     "output_type": "display_data"
    }
   ],
   "source": [
    "import matplotlib.pyplot as plt\n",
    "\n",
    "plt.figure(figsize=(6,6))\n",
    "loss = hist.history['loss']\n",
    "val_loss = hist.history['val_loss']\n",
    "epochs = range(1, len(loss) + 1)\n",
    "plt.plot(epochs, loss, 'b', label='Training loss')\n",
    "plt.plot(epochs, val_loss, 'r', label='Validation loss')\n",
    "plt.axvline(x = (np.argmin(val_loss)+1))\n",
    "plt.title('Training and validation loss')\n",
    "plt.xlabel('Epochs')\n",
    "plt.ylabel('Loss')\n",
    "plt.legend()\n",
    "plt.show()"
   ]
  },
  {
   "cell_type": "markdown",
   "metadata": {},
   "source": [
    "### Plotting training and validation accuracy"
   ]
  },
  {
   "cell_type": "code",
   "execution_count": 16,
   "metadata": {
    "scrolled": true
   },
   "outputs": [
    {
     "data": {
      "image/png": "[encoded data removed]",
      "text/plain": [
       "<Figure size 432x432 with 1 Axes>"
      ]
     },
     "metadata": {
      "needs_background": "light"
     },
     "output_type": "display_data"
    }
   ],
   "source": [
    "plt.figure(figsize=(6,6))\n",
    "acc = hist.history['accuracy']\n",
    "val_acc = hist.history['val_accuracy']\n",
    "plt.plot(epochs, acc, 'b', label='Training acc')\n",
    "plt.plot(epochs, val_acc, 'r', label='Validation acc')\n",
    "plt.axvline(x = (np.argmax(val_acc)+1))\n",
    "plt.title('Training and validation accuracy')\n",
    "plt.xlabel('Epochs')\n",
    "plt.ylabel('Accuracy')\n",
    "plt.legend()\n",
    "plt.show()"
   ]
  },
  {
   "cell_type": "code",
   "execution_count": 17,
   "metadata": {},
   "outputs": [
    {
     "data": {
      "text/plain": [
       "(25, 0.7136363387107849)"
      ]
     },
     "execution_count": 17,
     "metadata": {},
     "output_type": "execute_result"
    }
   ],
   "source": [
    "# Epoch with highest validation accucary\n",
    "np.argmax(val_acc)+1, val_acc[np.argmax(val_acc)]"
   ]
  },
  {
   "cell_type": "code",
   "execution_count": 18,
   "metadata": {
    "scrolled": true
   },
   "outputs": [
    {
     "name": "stdout",
     "output_type": "stream",
     "text": [
      "880/880 [==============================] - 1s 822us/step\n",
      "Test loss: 0.9529982415112582\n",
      "Test accuracy: 0.6818181872367859\n"
     ]
    }
   ],
   "source": [
    "results = model.evaluate(X_Test, Y_Test)\n",
    "print('Test loss:', results[0])\n",
    "print('Test accuracy:', results[1])"
   ]
  },
  {
   "cell_type": "markdown",
   "metadata": {},
   "source": [
    "### Accuracy per Genre"
   ]
  },
  {
   "cell_type": "code",
   "execution_count": 19,
   "metadata": {
    "scrolled": true
   },
   "outputs": [
    {
     "name": "stdout",
     "output_type": "stream",
     "text": [
      "[[ 76   0  12   0  10   2   0  10]\n",
      " [  3 104   0   0   3   0   0   0]\n",
      " [ 16   1  86   0   2   1   3   1]\n",
      " [  3   1   3  80  10   0  13   0]\n",
      " [  9  11   4   2  83   1   0   0]\n",
      " [  3   3   1   0   1  88   0  14]\n",
      " [  5   1  31  13   7   3  39  11]\n",
      " [ 25   0  13   1   5  20   2  44]]\n"
     ]
    }
   ],
   "source": [
    "from sklearn.metrics import confusion_matrix\n",
    "y_pred = model.predict(X_Test)\n",
    "y_pred = np.argmax(y_pred, axis=1)\n",
    "print(confusion_matrix(Y_Test, y_pred))"
   ]
  },
  {
   "cell_type": "code",
   "execution_count": 20,
   "metadata": {
    "scrolled": false
   },
   "outputs": [
    {
     "data": {
      "text/plain": [
       "Text(258.72, 0.5, 'Prediction')"
      ]
     },
     "execution_count": 20,
     "metadata": {},
     "output_type": "execute_result"
    },
    {
     "data": {
      "image/png": "[encoded data removed]",
      "text/plain": [
       "<Figure size 864x432 with 1 Axes>"
      ]
     },
     "metadata": {
      "needs_background": "light"
     },
     "output_type": "display_data"
    }
   ],
   "source": [
    "# Visualizing confusion matrix\n",
    "from sklearn.metrics import confusion_matrix\n",
    "import seaborn as sns\n",
    "\n",
    "plt.figure(figsize=(12,6))\n",
    "cm = confusion_matrix(Y_Test, y_pred)\n",
    "sns.heatmap(cm.T, square=True, annot=True, fmt='d', cbar=False,\n",
    "            xticklabels=list(le.classes_),\n",
    "            yticklabels=list(le.classes_))\n",
    "plt.xlabel('True Genre')\n",
    "plt.ylabel('Prediction')"
   ]
  },
  {
   "cell_type": "code",
   "execution_count": 21,
   "metadata": {},
   "outputs": [
    {
     "name": "stdout",
     "output_type": "stream",
     "text": [
      "(880,) (880,)\n",
      "              precision    recall  f1-score   support\n",
      "\n",
      "       Blues       0.54      0.69      0.61       110\n",
      "   Classical       0.86      0.95      0.90       110\n",
      "     Country       0.57      0.78      0.66       110\n",
      "     Hip-Hop       0.83      0.73      0.78       110\n",
      "        Jazz       0.69      0.75      0.72       110\n",
      "       Metal       0.77      0.80      0.78       110\n",
      "         Pop       0.68      0.35      0.47       110\n",
      "        Rock       0.55      0.40      0.46       110\n",
      "\n",
      "    accuracy                           0.68       880\n",
      "   macro avg       0.69      0.68      0.67       880\n",
      "weighted avg       0.69      0.68      0.67       880\n",
      "\n"
     ]
    }
   ],
   "source": [
    "from sklearn.metrics import classification_report\n",
    "\n",
    "print(Y_Test.shape, y_pred.shape)\n",
    "print(classification_report(Y_Test, y_pred, target_names=list(le.classes_)))"
   ]
  },
  {
   "cell_type": "code",
   "execution_count": 22,
   "metadata": {
    "scrolled": true
   },
   "outputs": [
    {
     "data": {
      "text/html": [
       "<div>\n",
       "<style scoped>\n",
       "    .dataframe tbody tr th:only-of-type {\n",
       "        vertical-align: middle;\n",
       "    }\n",
       "\n",
       "    .dataframe tbody tr th {\n",
       "        vertical-align: top;\n",
       "    }\n",
       "\n",
       "    .dataframe thead th {\n",
       "        text-align: right;\n",
       "    }\n",
       "</style>\n",
       "<table border=\"1\" class=\"dataframe\">\n",
       "  <thead>\n",
       "    <tr style=\"text-align: right;\">\n",
       "      <th></th>\n",
       "      <th>precision</th>\n",
       "      <th>recall</th>\n",
       "      <th>f1-score</th>\n",
       "      <th>support</th>\n",
       "    </tr>\n",
       "  </thead>\n",
       "  <tbody>\n",
       "    <tr>\n",
       "      <th>Blues</th>\n",
       "      <td>0.542857</td>\n",
       "      <td>0.690909</td>\n",
       "      <td>0.608000</td>\n",
       "      <td>110.000000</td>\n",
       "    </tr>\n",
       "    <tr>\n",
       "      <th>Classical</th>\n",
       "      <td>0.859504</td>\n",
       "      <td>0.945455</td>\n",
       "      <td>0.900433</td>\n",
       "      <td>110.000000</td>\n",
       "    </tr>\n",
       "    <tr>\n",
       "      <th>Country</th>\n",
       "      <td>0.573333</td>\n",
       "      <td>0.781818</td>\n",
       "      <td>0.661538</td>\n",
       "      <td>110.000000</td>\n",
       "    </tr>\n",
       "    <tr>\n",
       "      <th>Hip-Hop</th>\n",
       "      <td>0.833333</td>\n",
       "      <td>0.727273</td>\n",
       "      <td>0.776699</td>\n",
       "      <td>110.000000</td>\n",
       "    </tr>\n",
       "    <tr>\n",
       "      <th>Jazz</th>\n",
       "      <td>0.685950</td>\n",
       "      <td>0.754545</td>\n",
       "      <td>0.718615</td>\n",
       "      <td>110.000000</td>\n",
       "    </tr>\n",
       "    <tr>\n",
       "      <th>Metal</th>\n",
       "      <td>0.765217</td>\n",
       "      <td>0.800000</td>\n",
       "      <td>0.782222</td>\n",
       "      <td>110.000000</td>\n",
       "    </tr>\n",
       "    <tr>\n",
       "      <th>Pop</th>\n",
       "      <td>0.684211</td>\n",
       "      <td>0.354545</td>\n",
       "      <td>0.467066</td>\n",
       "      <td>110.000000</td>\n",
       "    </tr>\n",
       "    <tr>\n",
       "      <th>Rock</th>\n",
       "      <td>0.550000</td>\n",
       "      <td>0.400000</td>\n",
       "      <td>0.463158</td>\n",
       "      <td>110.000000</td>\n",
       "    </tr>\n",
       "    <tr>\n",
       "      <th>accuracy</th>\n",
       "      <td>0.681818</td>\n",
       "      <td>0.681818</td>\n",
       "      <td>0.681818</td>\n",
       "      <td>0.681818</td>\n",
       "    </tr>\n",
       "    <tr>\n",
       "      <th>macro avg</th>\n",
       "      <td>0.686801</td>\n",
       "      <td>0.681818</td>\n",
       "      <td>0.672216</td>\n",
       "      <td>880.000000</td>\n",
       "    </tr>\n",
       "    <tr>\n",
       "      <th>weighted avg</th>\n",
       "      <td>0.686801</td>\n",
       "      <td>0.681818</td>\n",
       "      <td>0.672216</td>\n",
       "      <td>880.000000</td>\n",
       "    </tr>\n",
       "  </tbody>\n",
       "</table>\n",
       "</div>"
      ],
      "text/plain": [
       "              precision    recall  f1-score     support\n",
       "Blues          0.542857  0.690909  0.608000  110.000000\n",
       "Classical      0.859504  0.945455  0.900433  110.000000\n",
       "Country        0.573333  0.781818  0.661538  110.000000\n",
       "Hip-Hop        0.833333  0.727273  0.776699  110.000000\n",
       "Jazz           0.685950  0.754545  0.718615  110.000000\n",
       "Metal          0.765217  0.800000  0.782222  110.000000\n",
       "Pop            0.684211  0.354545  0.467066  110.000000\n",
       "Rock           0.550000  0.400000  0.463158  110.000000\n",
       "accuracy       0.681818  0.681818  0.681818    0.681818\n",
       "macro avg      0.686801  0.681818  0.672216  880.000000\n",
       "weighted avg   0.686801  0.681818  0.672216  880.000000"
      ]
     },
     "execution_count": 22,
     "metadata": {},
     "output_type": "execute_result"
    }
   ],
   "source": [
    "# Create pandas df from classification report\n",
    "report = classification_report(Y_Test, y_pred, target_names=list(le.classes_), output_dict=True)\n",
    "reportdf = pd.DataFrame(report)\n",
    "reportdf.T"
   ]
  },
  {
   "cell_type": "code",
   "execution_count": 23,
   "metadata": {},
   "outputs": [],
   "source": [
    "# Export report to latex\n",
    "reportdf.to_latex('Class_Report_Timbre_' + mtype + '.tex', float_format=\"%.3f\")"
   ]
  },
  {
   "cell_type": "code",
   "execution_count": null,
   "metadata": {},
   "outputs": [],
   "source": []
  }
 ],
 "metadata": {
  "kernelspec": {
   "display_name": "Python 3",
   "language": "python",
   "name": "python3"
  },
  "language_info": {
   "codemirror_mode": {
    "name": "ipython",
    "version": 3
   },
   "file_extension": ".py",
   "mimetype": "text/x-python",
   "name": "python",
   "nbconvert_exporter": "python",
   "pygments_lexer": "ipython3",
   "version": "3.7.5"
  }
 },
 "nbformat": 4,
 "nbformat_minor": 2
}
