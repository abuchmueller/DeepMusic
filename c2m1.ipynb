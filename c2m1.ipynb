{
 "cells": [
  {
   "cell_type": "code",
   "execution_count": 1,
   "metadata": {
    "scrolled": true
   },
   "outputs": [
    {
     "name": "stderr",
     "output_type": "stream",
     "text": [
      "Using TensorFlow backend.\n"
     ]
    }
   ],
   "source": [
    "import os\n",
    "import numpy as np\n",
    "from sklearn import preprocessing\n",
    "\n",
    "import keras\n",
    "from keras.models import Sequential, Model\n",
    "from keras.layers import Input, Dense, Dropout, Activation\n",
    "from keras.layers import Flatten, Conv2D, BatchNormalization, Lambda, Conv3D\n",
    "from keras.layers import MaxPooling2D, GlobalMaxPooling2D, AveragePooling2D, Add\n",
    "from keras.callbacks import EarlyStopping\n",
    "from keras.optimizers import Adam, RMSprop, SGD\n",
    "from keras import regularizers"
   ]
  },
  {
   "cell_type": "markdown",
   "metadata": {},
   "source": [
    "# Modeling"
   ]
  },
  {
   "cell_type": "markdown",
   "metadata": {},
   "source": [
    "### Load NumPy Arrays & convert labels"
   ]
  },
  {
   "cell_type": "code",
   "execution_count": 2,
   "metadata": {},
   "outputs": [],
   "source": [
    "segs = 512"
   ]
  },
  {
   "cell_type": "code",
   "execution_count": 3,
   "metadata": {},
   "outputs": [],
   "source": [
    "# Load compressed NumPy arrays\n",
    "with np.load('orpheusC' + str(segs) + '.npz') as data:\n",
    "    X_Train = data['X_Train']\n",
    "    X_Val = data['X_Val']\n",
    "    X_Test = data['X_Test']\n",
    "    Y_Train = data['Y_Train']\n",
    "    Y_Val  = data['Y_Val']\n",
    "    Y_Test = data['Y_Test']"
   ]
  },
  {
   "cell_type": "code",
   "execution_count": 4,
   "metadata": {
    "scrolled": true
   },
   "outputs": [
    {
     "data": {
      "text/plain": [
       "array(['Blues', 'Classical', 'Country', 'Hip-Hop', 'Jazz', 'Metal', 'Pop',\n",
       "       'Rock'], dtype='<U9')"
      ]
     },
     "execution_count": 4,
     "metadata": {},
     "output_type": "execute_result"
    }
   ],
   "source": [
    "# Convert numerical labels to integers\n",
    "le = preprocessing.LabelEncoder()\n",
    "Y_Train = le.fit_transform(Y_Train)\n",
    "Y_Val = le.fit_transform(Y_Val)\n",
    "Y_Test =le.fit_transform(Y_Test)\n",
    "le.classes_"
   ]
  },
  {
   "cell_type": "code",
   "execution_count": 5,
   "metadata": {
    "scrolled": true
   },
   "outputs": [
    {
     "data": {
      "text/plain": [
       "(Country      880\n",
       " Pop          880\n",
       " Jazz         880\n",
       " Blues        880\n",
       " Metal        880\n",
       " Classical    880\n",
       " Hip-Hop      880\n",
       " Rock         880\n",
       " Name: 0, dtype: int64,\n",
       " Metal        110\n",
       " Classical    110\n",
       " Pop          110\n",
       " Country      110\n",
       " Hip-Hop      110\n",
       " Jazz         110\n",
       " Rock         110\n",
       " Blues        110\n",
       " Name: 0, dtype: int64,\n",
       " Metal        110\n",
       " Classical    110\n",
       " Pop          110\n",
       " Country      110\n",
       " Hip-Hop      110\n",
       " Jazz         110\n",
       " Rock         110\n",
       " Blues        110\n",
       " Name: 0, dtype: int64)"
      ]
     },
     "execution_count": 5,
     "metadata": {},
     "output_type": "execute_result"
    }
   ],
   "source": [
    "# Confirm sample balance\n",
    "import pandas as pd\n",
    "Y_Traindf = pd.DataFrame(le.inverse_transform(Y_Train))\n",
    "Y_Valdf = pd.DataFrame(le.inverse_transform(Y_Val))\n",
    "Y_Testdf = pd.DataFrame(le.inverse_transform(Y_Test))\n",
    "Y_Traindf[0].value_counts(),Y_Valdf[0].value_counts(),Y_Testdf[0].value_counts()"
   ]
  },
  {
   "cell_type": "markdown",
   "metadata": {},
   "source": [
    "### Build Model(s)"
   ]
  },
  {
   "cell_type": "markdown",
   "metadata": {},
   "source": [
    "#### CNN (Timbre + Pitch)"
   ]
  },
  {
   "cell_type": "code",
   "execution_count": 6,
   "metadata": {
    "scrolled": false
   },
   "outputs": [],
   "source": [
    "inshape = (segs, 12, 2)"
   ]
  },
  {
   "cell_type": "code",
   "execution_count": 7,
   "metadata": {},
   "outputs": [],
   "source": [
    "# set dropout rate\n",
    "dr = 0.35"
   ]
  },
  {
   "cell_type": "code",
   "execution_count": 8,
   "metadata": {
    "scrolled": true
   },
   "outputs": [
    {
     "name": "stdout",
     "output_type": "stream",
     "text": [
      "WARNING:tensorflow:From /Users/abuchmueller/opt/anaconda3/envs/P37/lib/python3.7/site-packages/keras/backend/tensorflow_backend.py:4070: The name tf.nn.max_pool is deprecated. Please use tf.nn.max_pool2d instead.\n",
      "\n"
     ]
    }
   ],
   "source": [
    "model = Sequential()\n",
    "\n",
    "# 3x 2D Convolution layers\n",
    "model.add(Conv2D(48, (5, 5), activation='relu', strides=(1, 1), input_shape=inshape))\n",
    "model.add(MaxPooling2D((2, 2), strides=(2,2)))\n",
    "model.add(Dropout(rate=dr))\n",
    "\n",
    "model.add(Conv2D(64, (5, 5), activation='relu', padding=\"same\"))\n",
    "model.add(MaxPooling2D((2, 2), strides=(2,2)))\n",
    "model.add(Dropout(rate=dr))\n",
    "\n",
    "model.add(Conv2D(64, (5, 5), activation='relu', padding=\"same\"))\n",
    "model.add(MaxPooling2D((2, 2), strides=(2,2)))\n",
    "model.add(Dropout(rate=dr))\n",
    "\n",
    "model.add(Flatten())\n",
    "model.add(Dropout(rate=dr))\n",
    "\n",
    "# Dense layer with ReLU activation\n",
    "model.add(Dense(64, activation='relu'))\n",
    "\n",
    "# Output layer\n",
    "model.add(Dense(8, activation='softmax'))"
   ]
  },
  {
   "cell_type": "markdown",
   "metadata": {},
   "source": [
    "### Compile Model"
   ]
  },
  {
   "cell_type": "code",
   "execution_count": 10,
   "metadata": {
    "scrolled": true
   },
   "outputs": [],
   "source": [
    "model.compile(optimizer='adam', loss='sparse_categorical_crossentropy', metrics=['accuracy'])"
   ]
  },
  {
   "cell_type": "markdown",
   "metadata": {},
   "source": [
    "### Train Model"
   ]
  },
  {
   "cell_type": "code",
   "execution_count": 11,
   "metadata": {},
   "outputs": [],
   "source": [
    "es = EarlyStopping(monitor='val_accuracy', mode='max', verbose=1, min_delta=0.01, patience=8)"
   ]
  },
  {
   "cell_type": "code",
   "execution_count": 12,
   "metadata": {
    "scrolled": true
   },
   "outputs": [
    {
     "name": "stdout",
     "output_type": "stream",
     "text": [
      "WARNING:tensorflow:From /Users/abuchmueller/opt/anaconda3/envs/P37/lib/python3.7/site-packages/keras/backend/tensorflow_backend.py:422: The name tf.global_variables is deprecated. Please use tf.compat.v1.global_variables instead.\n",
      "\n",
      "Train on 7040 samples, validate on 880 samples\n",
      "Epoch 1/75\n",
      "7040/7040 [==============================] - 85s 12ms/step - loss: 2.3907 - accuracy: 0.2013 - val_loss: 1.7285 - val_accuracy: 0.2909\n",
      "Epoch 2/75\n",
      "7040/7040 [==============================] - 80s 11ms/step - loss: 1.5699 - accuracy: 0.3807 - val_loss: 1.4040 - val_accuracy: 0.4443\n",
      "Epoch 3/75\n",
      "7040/7040 [==============================] - 79s 11ms/step - loss: 1.3682 - accuracy: 0.4699 - val_loss: 1.3127 - val_accuracy: 0.4920\n",
      "Epoch 4/75\n",
      "7040/7040 [==============================] - 78s 11ms/step - loss: 1.2270 - accuracy: 0.5281 - val_loss: 1.2623 - val_accuracy: 0.5341\n",
      "Epoch 5/75\n",
      "7040/7040 [==============================] - 78s 11ms/step - loss: 1.1797 - accuracy: 0.5528 - val_loss: 1.1554 - val_accuracy: 0.5966\n",
      "Epoch 6/75\n",
      "7040/7040 [==============================] - 81s 12ms/step - loss: 1.0948 - accuracy: 0.5847 - val_loss: 1.1652 - val_accuracy: 0.5795\n",
      "Epoch 7/75\n",
      "7040/7040 [==============================] - 78s 11ms/step - loss: 1.1003 - accuracy: 0.5841 - val_loss: 1.1406 - val_accuracy: 0.5682\n",
      "Epoch 8/75\n",
      "7040/7040 [==============================] - 79s 11ms/step - loss: 1.0574 - accuracy: 0.5972 - val_loss: 1.0840 - val_accuracy: 0.6216\n",
      "Epoch 9/75\n",
      "7040/7040 [==============================] - 78s 11ms/step - loss: 1.0089 - accuracy: 0.6185 - val_loss: 1.0678 - val_accuracy: 0.6091\n",
      "Epoch 10/75\n",
      "7040/7040 [==============================] - 78s 11ms/step - loss: 1.0143 - accuracy: 0.6099 - val_loss: 1.1035 - val_accuracy: 0.6114\n",
      "Epoch 11/75\n",
      "7040/7040 [==============================] - 78s 11ms/step - loss: 0.9990 - accuracy: 0.6169 - val_loss: 1.0474 - val_accuracy: 0.6102\n",
      "Epoch 12/75\n",
      "7040/7040 [==============================] - 78s 11ms/step - loss: 0.9564 - accuracy: 0.6375 - val_loss: 1.0441 - val_accuracy: 0.6295\n",
      "Epoch 13/75\n",
      "7040/7040 [==============================] - 77s 11ms/step - loss: 0.9584 - accuracy: 0.6344 - val_loss: 1.0127 - val_accuracy: 0.6318\n",
      "Epoch 14/75\n",
      "7040/7040 [==============================] - 81s 12ms/step - loss: 0.9570 - accuracy: 0.6388 - val_loss: 0.9954 - val_accuracy: 0.6261\n",
      "Epoch 15/75\n",
      "7040/7040 [==============================] - 81s 11ms/step - loss: 0.9274 - accuracy: 0.6447 - val_loss: 0.9585 - val_accuracy: 0.6375\n",
      "Epoch 16/75\n",
      "7040/7040 [==============================] - 75s 11ms/step - loss: 0.9199 - accuracy: 0.6411 - val_loss: 0.9870 - val_accuracy: 0.6284\n",
      "Epoch 17/75\n",
      "7040/7040 [==============================] - 75s 11ms/step - loss: 0.8931 - accuracy: 0.6581 - val_loss: 0.9708 - val_accuracy: 0.6409\n",
      "Epoch 18/75\n",
      "7040/7040 [==============================] - 95s 13ms/step - loss: 0.9039 - accuracy: 0.6580 - val_loss: 0.9452 - val_accuracy: 0.6386\n",
      "Epoch 19/75\n",
      "7040/7040 [==============================] - 83s 12ms/step - loss: 0.8811 - accuracy: 0.6625 - val_loss: 0.9868 - val_accuracy: 0.6489\n",
      "Epoch 20/75\n",
      "7040/7040 [==============================] - 80s 11ms/step - loss: 0.8788 - accuracy: 0.6618 - val_loss: 0.9488 - val_accuracy: 0.6318\n",
      "Epoch 21/75\n",
      "7040/7040 [==============================] - 77s 11ms/step - loss: 0.8697 - accuracy: 0.6689 - val_loss: 0.9361 - val_accuracy: 0.6455\n",
      "Epoch 22/75\n",
      "7040/7040 [==============================] - 79s 11ms/step - loss: 0.8563 - accuracy: 0.6732 - val_loss: 0.9482 - val_accuracy: 0.6420\n",
      "Epoch 23/75\n",
      "7040/7040 [==============================] - 78s 11ms/step - loss: 0.8343 - accuracy: 0.6815 - val_loss: 0.9343 - val_accuracy: 0.6398\n",
      "Epoch 24/75\n",
      "7040/7040 [==============================] - 79s 11ms/step - loss: 0.8287 - accuracy: 0.6827 - val_loss: 0.9270 - val_accuracy: 0.6375\n",
      "Epoch 25/75\n",
      "7040/7040 [==============================] - 78s 11ms/step - loss: 0.8118 - accuracy: 0.6908 - val_loss: 0.9116 - val_accuracy: 0.6398\n",
      "Epoch 26/75\n",
      "7040/7040 [==============================] - 78s 11ms/step - loss: 0.8323 - accuracy: 0.6844 - val_loss: 0.9234 - val_accuracy: 0.6625\n",
      "Epoch 27/75\n",
      "7040/7040 [==============================] - 78s 11ms/step - loss: 0.8280 - accuracy: 0.6771 - val_loss: 0.9800 - val_accuracy: 0.6420\n",
      "Epoch 28/75\n",
      "7040/7040 [==============================] - 79s 11ms/step - loss: 0.8062 - accuracy: 0.6946 - val_loss: 0.9123 - val_accuracy: 0.6500\n",
      "Epoch 29/75\n",
      "7040/7040 [==============================] - 75s 11ms/step - loss: 0.7863 - accuracy: 0.6955 - val_loss: 0.8917 - val_accuracy: 0.6795\n",
      "Epoch 30/75\n",
      "7040/7040 [==============================] - 75s 11ms/step - loss: 0.7949 - accuracy: 0.6974 - val_loss: 0.9328 - val_accuracy: 0.6614\n",
      "Epoch 31/75\n",
      "7040/7040 [==============================] - 75s 11ms/step - loss: 0.7844 - accuracy: 0.6982 - val_loss: 0.8952 - val_accuracy: 0.6602\n",
      "Epoch 32/75\n",
      "7040/7040 [==============================] - 75s 11ms/step - loss: 0.7785 - accuracy: 0.7020 - val_loss: 0.9046 - val_accuracy: 0.6409\n",
      "Epoch 33/75\n",
      "7040/7040 [==============================] - 74s 11ms/step - loss: 0.7673 - accuracy: 0.7020 - val_loss: 0.8852 - val_accuracy: 0.6693\n",
      "Epoch 34/75\n",
      "7040/7040 [==============================] - 75s 11ms/step - loss: 0.7800 - accuracy: 0.7055 - val_loss: 0.9353 - val_accuracy: 0.6636\n",
      "Epoch 35/75\n",
      "7040/7040 [==============================] - 75s 11ms/step - loss: 0.7596 - accuracy: 0.7068 - val_loss: 0.8882 - val_accuracy: 0.6761\n",
      "Epoch 36/75\n",
      "7040/7040 [==============================] - 75s 11ms/step - loss: 0.7481 - accuracy: 0.7115 - val_loss: 0.9163 - val_accuracy: 0.6455\n",
      "Epoch 37/75\n",
      "7040/7040 [==============================] - 75s 11ms/step - loss: 0.7608 - accuracy: 0.7121 - val_loss: 0.9021 - val_accuracy: 0.6557\n",
      "Epoch 00037: early stopping\n"
     ]
    }
   ],
   "source": [
    "# iterating 30 times on the data in batches of 32 samples then saving training history\n",
    "hist = model.fit(X_Train, Y_Train, epochs=75, batch_size=64, validation_data=(X_Val, Y_Val), callbacks=[es])"
   ]
  },
  {
   "cell_type": "code",
   "execution_count": 13,
   "metadata": {
    "scrolled": false
   },
   "outputs": [
    {
     "name": "stdout",
     "output_type": "stream",
     "text": [
      "Model: \"sequential_1\"\n",
      "_________________________________________________________________\n",
      "Layer (type)                 Output Shape              Param #   \n",
      "=================================================================\n",
      "conv2d_1 (Conv2D)            (None, 508, 8, 48)        2448      \n",
      "_________________________________________________________________\n",
      "max_pooling2d_1 (MaxPooling2 (None, 254, 4, 48)        0         \n",
      "_________________________________________________________________\n",
      "dropout_1 (Dropout)          (None, 254, 4, 48)        0         \n",
      "_________________________________________________________________\n",
      "conv2d_2 (Conv2D)            (None, 254, 4, 64)        76864     \n",
      "_________________________________________________________________\n",
      "max_pooling2d_2 (MaxPooling2 (None, 127, 2, 64)        0         \n",
      "_________________________________________________________________\n",
      "dropout_2 (Dropout)          (None, 127, 2, 64)        0         \n",
      "_________________________________________________________________\n",
      "conv2d_3 (Conv2D)            (None, 127, 2, 64)        102464    \n",
      "_________________________________________________________________\n",
      "max_pooling2d_3 (MaxPooling2 (None, 63, 1, 64)         0         \n",
      "_________________________________________________________________\n",
      "dropout_3 (Dropout)          (None, 63, 1, 64)         0         \n",
      "_________________________________________________________________\n",
      "flatten_1 (Flatten)          (None, 4032)              0         \n",
      "_________________________________________________________________\n",
      "dropout_4 (Dropout)          (None, 4032)              0         \n",
      "_________________________________________________________________\n",
      "dense_1 (Dense)              (None, 64)                258112    \n",
      "_________________________________________________________________\n",
      "dense_2 (Dense)              (None, 8)                 520       \n",
      "=================================================================\n",
      "Total params: 440,408\n",
      "Trainable params: 440,408\n",
      "Non-trainable params: 0\n",
      "_________________________________________________________________\n"
     ]
    }
   ],
   "source": [
    "# Model Summary\n",
    "model.summary()"
   ]
  },
  {
   "cell_type": "code",
   "execution_count": 14,
   "metadata": {
    "scrolled": false
   },
   "outputs": [
    {
     "name": "stdout",
     "output_type": "stream",
     "text": [
      "880/880 [==============================] - 4s 4ms/step\n"
     ]
    }
   ],
   "source": [
    "model.save(os.getcwd() + '/models/mixed/cnn_' + str(segs) + '_' + str(round(model.evaluate(X_Test, Y_Test)[1], 3)) + '.h5')"
   ]
  },
  {
   "cell_type": "markdown",
   "metadata": {},
   "source": [
    "# Model Evaluation"
   ]
  },
  {
   "cell_type": "markdown",
   "metadata": {},
   "source": [
    "### Plotting training and validation loss"
   ]
  },
  {
   "cell_type": "code",
   "execution_count": 15,
   "metadata": {},
   "outputs": [
    {
     "data": {
      "image/png": "[encoded data removed]",
      "text/plain": [
       "<Figure size 432x432 with 1 Axes>"
      ]
     },
     "metadata": {
      "needs_background": "light"
     },
     "output_type": "display_data"
    }
   ],
   "source": [
    "import matplotlib.pyplot as plt\n",
    "\n",
    "plt.figure(figsize=(6,6))\n",
    "loss = hist.history['loss']\n",
    "val_loss = hist.history['val_loss']\n",
    "epochs = range(1, len(loss) + 1)\n",
    "plt.plot(epochs, loss, 'b', label='Training loss')\n",
    "plt.plot(epochs, val_loss, 'r', label='Validation loss')\n",
    "plt.axvline(x = (np.argmin(val_loss)+1))\n",
    "plt.title('Training and validation loss')\n",
    "plt.xlabel('Epochs')\n",
    "plt.ylabel('Loss')\n",
    "plt.legend()\n",
    "plt.show()"
   ]
  },
  {
   "cell_type": "markdown",
   "metadata": {},
   "source": [
    "### Plotting training and validation accuracy"
   ]
  },
  {
   "cell_type": "code",
   "execution_count": 16,
   "metadata": {
    "scrolled": true
   },
   "outputs": [
    {
     "data": {
      "image/png": "[encoded data removed]",
      "text/plain": [
       "<Figure size 432x432 with 1 Axes>"
      ]
     },
     "metadata": {
      "needs_background": "light"
     },
     "output_type": "display_data"
    }
   ],
   "source": [
    "plt.figure(figsize=(6,6))\n",
    "acc = hist.history['accuracy']\n",
    "val_acc = hist.history['val_accuracy']\n",
    "plt.plot(epochs, acc, 'b', label='Training acc')\n",
    "plt.plot(epochs, val_acc, 'r', label='Validation acc')\n",
    "plt.axvline(x = (np.argmax(val_acc)+1))\n",
    "plt.title('Training and validation accuracy')\n",
    "plt.xlabel('Epochs')\n",
    "plt.ylabel('Accuracy')\n",
    "plt.legend()\n",
    "plt.show()"
   ]
  },
  {
   "cell_type": "code",
   "execution_count": 17,
   "metadata": {},
   "outputs": [
    {
     "data": {
      "text/plain": [
       "(29, 0.6795454621315002)"
      ]
     },
     "execution_count": 17,
     "metadata": {},
     "output_type": "execute_result"
    }
   ],
   "source": [
    "# Epoch with highest validation accucary\n",
    "np.argmax(val_acc)+1, val_acc[np.argmax(val_acc)]"
   ]
  },
  {
   "cell_type": "code",
   "execution_count": 18,
   "metadata": {
    "scrolled": true
   },
   "outputs": [
    {
     "name": "stdout",
     "output_type": "stream",
     "text": [
      "880/880 [==============================] - 3s 4ms/step\n",
      "Test loss: 0.8908621755513277\n",
      "Test accuracy: 0.6784090995788574\n"
     ]
    }
   ],
   "source": [
    "results = model.evaluate(X_Test, Y_Test)\n",
    "print('Test loss:', results[0])\n",
    "print('Test accuracy:', results[1])"
   ]
  },
  {
   "cell_type": "markdown",
   "metadata": {},
   "source": [
    "### Accuracy per Genre"
   ]
  },
  {
   "cell_type": "code",
   "execution_count": 19,
   "metadata": {
    "scrolled": true
   },
   "outputs": [
    {
     "name": "stdout",
     "output_type": "stream",
     "text": [
      "[[ 77   2   7   1   6   3   5   9]\n",
      " [  4 104   0   0   2   0   0   0]\n",
      " [ 18   0  67   0   2   1  15   7]\n",
      " [  0   1   0  93   5   0  11   0]\n",
      " [ 17  10   0   4  71   1   3   4]\n",
      " [  2   3   0   0   2  92   2   9]\n",
      " [  5   0   3  22   3   3  55  19]\n",
      " [ 16   1  11   2   5  31   6  38]]\n"
     ]
    }
   ],
   "source": [
    "from sklearn.metrics import confusion_matrix\n",
    "y_pred = model.predict(X_Test)\n",
    "y_pred = np.argmax(y_pred, axis=1)\n",
    "print(confusion_matrix(Y_Test, y_pred))"
   ]
  },
  {
   "cell_type": "code",
   "execution_count": 20,
   "metadata": {
    "scrolled": true
   },
   "outputs": [
    {
     "data": {
      "text/plain": [
       "Text(258.72, 0.5, 'Prediction')"
      ]
     },
     "execution_count": 20,
     "metadata": {},
     "output_type": "execute_result"
    },
    {
     "data": {
      "image/png": "[encoded data removed]",
      "text/plain": [
       "<Figure size 864x432 with 1 Axes>"
      ]
     },
     "metadata": {
      "needs_background": "light"
     },
     "output_type": "display_data"
    }
   ],
   "source": [
    "# Visualizing confusion matrix\n",
    "import seaborn as sns\n",
    "\n",
    "plt.figure(figsize=(12,6))\n",
    "cm = confusion_matrix(Y_Test, y_pred)\n",
    "sns.heatmap(cm.T, square=True, annot=True, fmt='d', cbar=False,\n",
    "            xticklabels=list(le.classes_),\n",
    "            yticklabels=list(le.classes_))\n",
    "plt.xlabel('True Genre')\n",
    "plt.ylabel('Prediction')"
   ]
  },
  {
   "cell_type": "code",
   "execution_count": 21,
   "metadata": {
    "scrolled": true
   },
   "outputs": [
    {
     "name": "stdout",
     "output_type": "stream",
     "text": [
      "(880,) (880,)\n",
      "              precision    recall  f1-score   support\n",
      "\n",
      "       Blues       0.55      0.70      0.62       110\n",
      "   Classical       0.86      0.95      0.90       110\n",
      "     Country       0.76      0.61      0.68       110\n",
      "     Hip-Hop       0.76      0.85      0.80       110\n",
      "        Jazz       0.74      0.65      0.69       110\n",
      "       Metal       0.70      0.84      0.76       110\n",
      "         Pop       0.57      0.50      0.53       110\n",
      "        Rock       0.44      0.35      0.39       110\n",
      "\n",
      "    accuracy                           0.68       880\n",
      "   macro avg       0.67      0.68      0.67       880\n",
      "weighted avg       0.67      0.68      0.67       880\n",
      "\n"
     ]
    }
   ],
   "source": [
    "from sklearn.metrics import classification_report\n",
    "\n",
    "print(Y_Test.shape, y_pred.shape)\n",
    "print(classification_report(Y_Test, y_pred, target_names=list(le.classes_)))"
   ]
  },
  {
   "cell_type": "code",
   "execution_count": 22,
   "metadata": {
    "scrolled": true
   },
   "outputs": [
    {
     "data": {
      "text/html": [
       "<div>\n",
       "<style scoped>\n",
       "    .dataframe tbody tr th:only-of-type {\n",
       "        vertical-align: middle;\n",
       "    }\n",
       "\n",
       "    .dataframe tbody tr th {\n",
       "        vertical-align: top;\n",
       "    }\n",
       "\n",
       "    .dataframe thead th {\n",
       "        text-align: right;\n",
       "    }\n",
       "</style>\n",
       "<table border=\"1\" class=\"dataframe\">\n",
       "  <thead>\n",
       "    <tr style=\"text-align: right;\">\n",
       "      <th></th>\n",
       "      <th>precision</th>\n",
       "      <th>recall</th>\n",
       "      <th>f1-score</th>\n",
       "      <th>support</th>\n",
       "    </tr>\n",
       "  </thead>\n",
       "  <tbody>\n",
       "    <tr>\n",
       "      <th>Blues</th>\n",
       "      <td>0.553957</td>\n",
       "      <td>0.700000</td>\n",
       "      <td>0.618474</td>\n",
       "      <td>110.000000</td>\n",
       "    </tr>\n",
       "    <tr>\n",
       "      <th>Classical</th>\n",
       "      <td>0.859504</td>\n",
       "      <td>0.945455</td>\n",
       "      <td>0.900433</td>\n",
       "      <td>110.000000</td>\n",
       "    </tr>\n",
       "    <tr>\n",
       "      <th>Country</th>\n",
       "      <td>0.761364</td>\n",
       "      <td>0.609091</td>\n",
       "      <td>0.676768</td>\n",
       "      <td>110.000000</td>\n",
       "    </tr>\n",
       "    <tr>\n",
       "      <th>Hip-Hop</th>\n",
       "      <td>0.762295</td>\n",
       "      <td>0.845455</td>\n",
       "      <td>0.801724</td>\n",
       "      <td>110.000000</td>\n",
       "    </tr>\n",
       "    <tr>\n",
       "      <th>Jazz</th>\n",
       "      <td>0.739583</td>\n",
       "      <td>0.645455</td>\n",
       "      <td>0.689320</td>\n",
       "      <td>110.000000</td>\n",
       "    </tr>\n",
       "    <tr>\n",
       "      <th>Metal</th>\n",
       "      <td>0.702290</td>\n",
       "      <td>0.836364</td>\n",
       "      <td>0.763485</td>\n",
       "      <td>110.000000</td>\n",
       "    </tr>\n",
       "    <tr>\n",
       "      <th>Pop</th>\n",
       "      <td>0.567010</td>\n",
       "      <td>0.500000</td>\n",
       "      <td>0.531401</td>\n",
       "      <td>110.000000</td>\n",
       "    </tr>\n",
       "    <tr>\n",
       "      <th>Rock</th>\n",
       "      <td>0.441860</td>\n",
       "      <td>0.345455</td>\n",
       "      <td>0.387755</td>\n",
       "      <td>110.000000</td>\n",
       "    </tr>\n",
       "    <tr>\n",
       "      <th>accuracy</th>\n",
       "      <td>0.678409</td>\n",
       "      <td>0.678409</td>\n",
       "      <td>0.678409</td>\n",
       "      <td>0.678409</td>\n",
       "    </tr>\n",
       "    <tr>\n",
       "      <th>macro avg</th>\n",
       "      <td>0.673483</td>\n",
       "      <td>0.678409</td>\n",
       "      <td>0.671170</td>\n",
       "      <td>880.000000</td>\n",
       "    </tr>\n",
       "    <tr>\n",
       "      <th>weighted avg</th>\n",
       "      <td>0.673483</td>\n",
       "      <td>0.678409</td>\n",
       "      <td>0.671170</td>\n",
       "      <td>880.000000</td>\n",
       "    </tr>\n",
       "  </tbody>\n",
       "</table>\n",
       "</div>"
      ],
      "text/plain": [
       "              precision    recall  f1-score     support\n",
       "Blues          0.553957  0.700000  0.618474  110.000000\n",
       "Classical      0.859504  0.945455  0.900433  110.000000\n",
       "Country        0.761364  0.609091  0.676768  110.000000\n",
       "Hip-Hop        0.762295  0.845455  0.801724  110.000000\n",
       "Jazz           0.739583  0.645455  0.689320  110.000000\n",
       "Metal          0.702290  0.836364  0.763485  110.000000\n",
       "Pop            0.567010  0.500000  0.531401  110.000000\n",
       "Rock           0.441860  0.345455  0.387755  110.000000\n",
       "accuracy       0.678409  0.678409  0.678409    0.678409\n",
       "macro avg      0.673483  0.678409  0.671170  880.000000\n",
       "weighted avg   0.673483  0.678409  0.671170  880.000000"
      ]
     },
     "execution_count": 22,
     "metadata": {},
     "output_type": "execute_result"
    }
   ],
   "source": [
    "# Create pandas df from classification report\n",
    "report = classification_report(Y_Test, y_pred, target_names=list(le.classes_), output_dict=True)\n",
    "reportdf = pd.DataFrame(report)\n",
    "reportdf.T"
   ]
  },
  {
   "cell_type": "code",
   "execution_count": 23,
   "metadata": {},
   "outputs": [],
   "source": [
    "# Export to latex\n",
    "reportdf.to_latex('Class_Report_Mixed.tex', float_format=\"%.3f\")"
   ]
  },
  {
   "cell_type": "code",
   "execution_count": null,
   "metadata": {},
   "outputs": [],
   "source": []
  }
 ],
 "metadata": {
  "kernelspec": {
   "display_name": "Python 3",
   "language": "python",
   "name": "python3"
  },
  "language_info": {
   "codemirror_mode": {
    "name": "ipython",
    "version": 3
   },
   "file_extension": ".py",
   "mimetype": "text/x-python",
   "name": "python",
   "nbconvert_exporter": "python",
   "pygments_lexer": "ipython3",
   "version": "3.7.5"
  }
 },
 "nbformat": 4,
 "nbformat_minor": 2
}
